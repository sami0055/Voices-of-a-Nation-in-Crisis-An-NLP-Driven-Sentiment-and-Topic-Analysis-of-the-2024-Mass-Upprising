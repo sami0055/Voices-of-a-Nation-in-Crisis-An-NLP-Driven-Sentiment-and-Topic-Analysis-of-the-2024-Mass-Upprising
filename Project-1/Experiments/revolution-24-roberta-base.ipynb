{
 "cells": [
  {
   "cell_type": "code",
   "execution_count": null,
   "metadata": {
    "trusted": true
   },
   "outputs": [],
   "source": [
    "!pip install banglanltk bangla-stemmer"
   ]
  },
  {
   "cell_type": "code",
   "execution_count": null,
   "metadata": {
    "id": "bpCCLTmDhcQ_",
    "trusted": true
   },
   "outputs": [],
   "source": [
    "import pandas as pd\n",
    "import numpy as np\n",
    "import matplotlib.pyplot as plt\n",
    "import seaborn as sns\n",
    "from sklearn.model_selection import train_test_split\n",
    "import torch\n",
    "from tqdm import tqdm\n",
    "from bangla_stemmer.stemmer import stemmer\n",
    "import time\n",
    "from sklearn.metrics import accuracy_score,precision_score,recall_score,f1_score,log_loss,jaccard_score,roc_auc_score,classification_report,confusion_matrix\n",
    "from torch.utils.data import Dataset, DataLoader"
   ]
  },
  {
   "cell_type": "markdown",
   "metadata": {
    "id": "-yHBqBhGm-wG"
   },
   "source": [
    "# **Train Dataset Loading**"
   ]
  },
  {
   "cell_type": "code",
   "execution_count": null,
   "metadata": {
    "trusted": true
   },
   "outputs": [],
   "source": [
    "import os\n",
    "\n",
    "print(os.listdir('/kaggle/input/revolution-24'))\n"
   ]
  },
  {
   "cell_type": "code",
   "execution_count": null,
   "metadata": {
    "colab": {
     "base_uri": "https://localhost:8080/",
     "height": 206
    },
    "id": "ZsRJ27UGiB7C",
    "outputId": "8a61a802-da88-487e-ca1f-006a58f8e9ad",
    "trusted": true
   },
   "outputs": [],
   "source": [
    "# Read the xlxs file into a DataFrame\n",
    "\n",
    "train_data  = pd.read_excel(\"/kaggle/input/revolution-24/AUG_Revolt_24 - Sheet1.xlsx\")\n",
    "stopwords_df = pd.read_excel('/kaggle/input/stopwords/stopwords_bangla.xlsx')\n",
    "# Display the DataFrame\n",
    "train_data.head()"
   ]
  },
  {
   "cell_type": "code",
   "execution_count": null,
   "metadata": {
    "id": "IMkevyu_mBaO",
    "trusted": true
   },
   "outputs": [],
   "source": [
    "# drop date\n",
    "train_data = train_data.drop('date', axis=1)"
   ]
  },
  {
   "cell_type": "code",
   "execution_count": null,
   "metadata": {
    "colab": {
     "base_uri": "https://localhost:8080/",
     "height": 210
    },
    "id": "QtT2V9ZpnFZD",
    "outputId": "25f4181f-f5f2-421c-da6c-707c8bd04103",
    "trusted": true
   },
   "outputs": [],
   "source": [
    "label_counts = train_data['Sentiment'].value_counts()\n",
    "label_counts"
   ]
  },
  {
   "cell_type": "code",
   "execution_count": null,
   "metadata": {
    "colab": {
     "base_uri": "https://localhost:8080/",
     "height": 206
    },
    "id": "UM3y6DLgmDKi",
    "outputId": "8ddbfaea-a5ee-475d-8df7-ee56af014476",
    "trusted": true
   },
   "outputs": [],
   "source": [
    "stopwords_df.head()"
   ]
  },
  {
   "cell_type": "code",
   "execution_count": null,
   "metadata": {
    "id": "-pUqVcSGmNZw",
    "trusted": true
   },
   "outputs": [],
   "source": [
    "import re\n",
    "\n",
    "def text_to_word_list(text):\n",
    "    text = text.split()\n",
    "    return text\n",
    "\n",
    "def replace_strings(text):\n",
    "    emoji_pattern = re.compile(\"[\"\n",
    "                               u\"\\U0001F600-\\U0001F64F\"  # emoticons\n",
    "                               u\"\\U0001F300-\\U0001F5FF\"  # symbols & pictographs\n",
    "                               u\"\\U0001F680-\\U0001F6FF\"  # transport & map symbols\n",
    "                               u\"\\U0001F1E0-\\U0001F1FF\"  # flags (iOS)\n",
    "                               u\"\\u2600-\\u26FF\"          # miscellaneous symbols\n",
    "                               u\"\\u2700-\\u27BF\"          # dingbats\n",
    "                               u\"\\u2000-\\u206F\"          # general punctuations\n",
    "                               \"]+\", flags=re.UNICODE)\n",
    "    english_pattern = re.compile('[a-zA-Z]+', flags=re.I)\n",
    "\n",
    "    text = emoji_pattern.sub(r'', text)\n",
    "    text = english_pattern.sub(r'', text)\n",
    "\n",
    "    return text\n",
    "\n",
    "def remove_punctuations(my_str):\n",
    "    punctuations = '''```\u0012\u0010\u0002\b`\u0007\b£|¢|\u0007Ñ+-*/=EROero৳০১২৩৪৫৬৭৮৯012–34567•89।!()-[]{};:'\"“\\’,<>./?@#$%^&*_~‘—॥”‰🤣⚽️✌�￰৷￰'''\n",
    "    no_punct = \"\"\n",
    "    for char in my_str:\n",
    "        if char not in punctuations:\n",
    "            no_punct += char\n",
    "\n",
    "    return no_punct\n",
    "\n",
    "def preprocessing(text):\n",
    "    text = replace_strings(text)\n",
    "    text = remove_punctuations(text)\n",
    "    return text"
   ]
  },
  {
   "cell_type": "code",
   "execution_count": null,
   "metadata": {
    "colab": {
     "base_uri": "https://localhost:8080/",
     "height": 206
    },
    "id": "b1ZDUBujmNW7",
    "outputId": "877e52de-fd08-4d50-cfa5-f9b6048921a5",
    "trusted": true
   },
   "outputs": [],
   "source": [
    "# prompt: for each Headline column of posts_df, apply the preprocessing function to each row\n",
    "\n",
    "train_data['Headline'] =train_data['Headline'].apply(lambda x: preprocessing(str(x)))\n",
    "train_data.head()"
   ]
  },
  {
   "cell_type": "code",
   "execution_count": null,
   "metadata": {
    "id": "BgKY2naWmQ_m",
    "trusted": true
   },
   "outputs": [],
   "source": [
    "# Remove Stopwords\n",
    "def stopwordRemoval(text):\n",
    "    x=str(text)\n",
    "    l=x.split()\n",
    "\n",
    "    stm=[elem for elem in l if elem not in stopwords_df]\n",
    "\n",
    "    out=' '.join(stm)\n",
    "\n",
    "    return str(out)"
   ]
  },
  {
   "cell_type": "code",
   "execution_count": null,
   "metadata": {
    "colab": {
     "base_uri": "https://localhost:8080/",
     "height": 206
    },
    "id": "YW0NjZ6FmQ9B",
    "outputId": "a3a70381-6763-4888-9253-5b731459b1fb",
    "trusted": true
   },
   "outputs": [],
   "source": [
    "train_data['Headline'] =train_data['Headline'].apply(lambda x: stopwordRemoval(str(x)))\n",
    "train_data.head()"
   ]
  },
  {
   "cell_type": "code",
   "execution_count": null,
   "metadata": {
    "id": "kWXzOj7QmQ5v",
    "trusted": true
   },
   "outputs": [],
   "source": [
    "# stemmer function\n",
    "def stem_text(x):\n",
    "  stmr = stemmer.BanglaStemmer()\n",
    "  words=x.split(' ')\n",
    "  stm = stmr.stem(words)\n",
    "  words=(' ').join(stm)\n",
    "  return words"
   ]
  },
  {
   "cell_type": "code",
   "execution_count": null,
   "metadata": {
    "colab": {
     "base_uri": "https://localhost:8080/"
    },
    "id": "lsU6MGktmcG-",
    "outputId": "47e8d911-7427-4959-e152-75e17607eda7",
    "trusted": true
   },
   "outputs": [],
   "source": [
    "!pip install datasets pandas torch openpyxl banglanltk bangla-stemmer gensim pyLDAvis"
   ]
  },
  {
   "cell_type": "code",
   "execution_count": null,
   "metadata": {
    "colab": {
     "base_uri": "https://localhost:8080/"
    },
    "id": "oZyufXZImQ3D",
    "outputId": "172761b2-45aa-4a4b-8941-a91ab4fb261c",
    "trusted": true
   },
   "outputs": [],
   "source": [
    "train_data['Headline'] =train_data['Headline'].apply(lambda x: stem_text(str(x)))"
   ]
  },
  {
   "cell_type": "code",
   "execution_count": null,
   "metadata": {
    "id": "3R7jxIHImQ0e",
    "trusted": true
   },
   "outputs": [],
   "source": [
    "#make test_data and val data_from train_data\n",
    "train_data, val_data = train_test_split(train_data, test_size=0.3, random_state=42,stratify=train_data['Sentiment'])\n",
    "# make test data from val data\n",
    "val_data, test_data = train_test_split(val_data, test_size=0.5, random_state=42,stratify=val_data['Sentiment'])"
   ]
  },
  {
   "cell_type": "code",
   "execution_count": null,
   "metadata": {
    "colab": {
     "base_uri": "https://localhost:8080/"
    },
    "id": "kxt6ez6qmQxu",
    "outputId": "25dadee9-03a8-4a1d-a29e-1ab39bf10a49",
    "trusted": true
   },
   "outputs": [],
   "source": [
    "len(train_data)"
   ]
  },
  {
   "cell_type": "code",
   "execution_count": null,
   "metadata": {
    "colab": {
     "base_uri": "https://localhost:8080/"
    },
    "id": "VfauhB2qmNUT",
    "outputId": "7144fd72-d1d9-4641-ebdb-631bb216118d",
    "trusted": true
   },
   "outputs": [],
   "source": [
    "len(test_data)"
   ]
  },
  {
   "cell_type": "code",
   "execution_count": null,
   "metadata": {
    "colab": {
     "base_uri": "https://localhost:8080/"
    },
    "id": "gy0PwgEKms25",
    "outputId": "9e5ac257-da75-4250-85c1-9312320dcb6f",
    "trusted": true
   },
   "outputs": [],
   "source": [
    "len(val_data)"
   ]
  },
  {
   "cell_type": "code",
   "execution_count": null,
   "metadata": {
    "colab": {
     "base_uri": "https://localhost:8080/",
     "height": 210
    },
    "id": "dEO_2zrVms01",
    "outputId": "3413172f-09ee-4017-bfb2-135d2bfc6cc4",
    "trusted": true
   },
   "outputs": [],
   "source": [
    "label_counts = train_data['Sentiment'].value_counts()\n",
    "label_counts"
   ]
  },
  {
   "cell_type": "markdown",
   "metadata": {
    "id": "kjvYiqfCuvQ3"
   },
   "source": [
    "# **Visualization of Label Distribution in Train Dataset**\n",
    "  "
   ]
  },
  {
   "cell_type": "code",
   "execution_count": null,
   "metadata": {
    "colab": {
     "base_uri": "https://localhost:8080/",
     "height": 607
    },
    "id": "z-Zk_j66jTQL",
    "outputId": "79a58d06-65f0-415f-9abd-e650e07643ca",
    "trusted": true
   },
   "outputs": [],
   "source": [
    "label_counts = train_data['Sentiment'].value_counts()\n",
    "\n",
    "# Define custom colors for the bars\n",
    "custom_colors = ['#73aeea', '#2595b0']\n",
    "\n",
    "# Define custom font dictionary for title and labels\n",
    "font = {'family': 'Serif', 'weight': 'bold', 'size': 12}\n",
    "\n",
    "plt.figure(figsize=(6, 6))\n",
    "\n",
    "# Create bar plot with grid\n",
    "bars = plt.bar(label_counts.index, label_counts.values, color=custom_colors)\n",
    "\n",
    "\n",
    "# Set title and axis labels using custom fontdict\n",
    "plt.title('Sentiment Distribution on Train Dataset', fontdict=font)\n",
    "plt.xlabel('Label', fontdict=font)\n",
    "plt.ylabel('Count', fontdict=font)\n",
    "\n",
    "# Set custom font for ticks on both x and y axes\n",
    "plt.xticks(label_counts.index, label_counts.index, fontdict=font)\n",
    "plt.yticks(fontname='Serif', fontsize=10)\n",
    "\n",
    "# Adding annotations (count values) on top of each bar\n",
    "for bar, count in zip(bars, label_counts.values):\n",
    "    plt.text(bar.get_x() + bar.get_width() / 2, bar.get_height(), str(count),\n",
    "             ha='center', va='bottom', fontdict=font)\n",
    "\n",
    "# Show the plot\n",
    "# Adjust layout to prevent cropping\n",
    "plt.tight_layout()\n",
    "plt.savefig('Rev_train.pdf')  # Save as pdf format\n",
    "plt.show()\n"
   ]
  },
  {
   "cell_type": "markdown",
   "metadata": {
    "id": "Lual0D29r14T"
   },
   "source": [
    "# **Visualization of Label Distribution in Test Dataset**\n"
   ]
  },
  {
   "cell_type": "code",
   "execution_count": null,
   "metadata": {
    "colab": {
     "base_uri": "https://localhost:8080/",
     "height": 607
    },
    "id": "Ri7Fz2d_rxlq",
    "outputId": "8b7ea1c0-b27e-45ef-9947-13c2675d00c8",
    "trusted": true
   },
   "outputs": [],
   "source": [
    "label_counts = test_data['Sentiment'].value_counts()\n",
    "\n",
    "# Define custom colors for the bars\n",
    "custom_colors = ['#73aeea', '#2595b0']\n",
    "\n",
    "# Define custom font dictionary for title and labels\n",
    "font = {'family': 'Serif', 'weight': 'bold', 'size': 12}\n",
    "\n",
    "plt.figure(figsize=(6, 6))\n",
    "\n",
    "# Create bar plot with grid\n",
    "bars = plt.bar(label_counts.index, label_counts.values, color=custom_colors)\n",
    "\n",
    "\n",
    "# Set title and axis labels using custom fontdict\n",
    "plt.title('Sentiment Distribution on Test Dataset', fontdict=font)\n",
    "plt.xlabel('Label', fontdict=font)\n",
    "plt.ylabel('Count', fontdict=font)\n",
    "\n",
    "# Set custom font for ticks on both x and y axes\n",
    "plt.xticks(label_counts.index, label_counts.index, fontdict=font)\n",
    "plt.yticks(fontname='Serif', fontsize=10)\n",
    "\n",
    "# Adding annotations (count values) on top of each bar\n",
    "for bar, count in zip(bars, label_counts.values):\n",
    "    plt.text(bar.get_x() + bar.get_width() / 2, bar.get_height(), str(count),\n",
    "             ha='center', va='bottom', fontdict=font)\n",
    "\n",
    "# Show the plot\n",
    "# Adjust layout to prevent cropping\n",
    "plt.tight_layout()\n",
    "plt.savefig('D:\\\\Political_test.pdf')  # Save as pdf format\n",
    "plt.show()\n"
   ]
  },
  {
   "cell_type": "markdown",
   "metadata": {
    "id": "6DY66nPRtlgR"
   },
   "source": [
    "# **Visualization of Label Distribution in Validation Dataset**\n"
   ]
  },
  {
   "cell_type": "code",
   "execution_count": null,
   "metadata": {
    "colab": {
     "base_uri": "https://localhost:8080/",
     "height": 607
    },
    "id": "m_DOyy0nrx6a",
    "outputId": "709ee89a-78fb-4362-9a7f-c754c39a46b2",
    "trusted": true
   },
   "outputs": [],
   "source": [
    "label_counts = val_data['Sentiment'].value_counts()\n",
    "\n",
    "# Define custom colors for the bars\n",
    "custom_colors = ['#73aeea', '#2595b0']\n",
    "\n",
    "# Define custom font dictionary for title and labels\n",
    "font = {'family': 'Serif', 'weight': 'bold', 'size': 12}\n",
    "\n",
    "plt.figure(figsize=(6, 6))\n",
    "\n",
    "# Create bar plot with grid\n",
    "bars = plt.bar(label_counts.index, label_counts.values, color=custom_colors)\n",
    "\n",
    "\n",
    "# Set title and axis labels using custom fontdict\n",
    "plt.title('Sentiment Distribution on Validation Dataset', fontdict=font)\n",
    "plt.xlabel('Label', fontdict=font)\n",
    "plt.ylabel('Count', fontdict=font)\n",
    "\n",
    "# Set custom font for ticks on both x and y axes\n",
    "plt.xticks(label_counts.index, label_counts.index, fontdict=font)\n",
    "plt.yticks(fontname='Serif', fontsize=10)\n",
    "\n",
    "# Adding annotations (count values) on top of each bar\n",
    "for bar, count in zip(bars, label_counts.values):\n",
    "    plt.text(bar.get_x() + bar.get_width() / 2, bar.get_height(), str(count),\n",
    "             ha='center', va='bottom', fontdict=font)\n",
    "\n",
    "# Show the plot\n",
    "# Adjust layout to prevent cropping\n",
    "plt.tight_layout()\n",
    "plt.savefig('D:\\\\Political_validation.pdf')  # Save as pdf format\n",
    "plt.show()\n"
   ]
  },
  {
   "cell_type": "code",
   "execution_count": null,
   "metadata": {
    "colab": {
     "base_uri": "https://localhost:8080/"
    },
    "id": "OaIoScyCznU-",
    "outputId": "317dd5b7-edae-4e32-9ea8-aa6754c258af",
    "trusted": true
   },
   "outputs": [],
   "source": [
    "print(f\"Length of train dataset: {len(train_data)}\")\n",
    "print(f\"Length of test dataset: {len(test_data)}\")\n",
    "print(f\"Length of validation dataset: {len(val_data)}\")"
   ]
  },
  {
   "cell_type": "markdown",
   "metadata": {
    "id": "YMdPz2c9GkPU"
   },
   "source": [
    "# **Custom Dataset Class**"
   ]
  },
  {
   "cell_type": "code",
   "execution_count": null,
   "metadata": {
    "id": "sBsNpLBbxutl",
    "trusted": true
   },
   "outputs": [],
   "source": [
    "class BanglaPoliticalSentimentDataset(Dataset):\n",
    "    def __init__(self, data, tokenizer, max_length=512):\n",
    "        self.data = data\n",
    "        self.tokenizer = tokenizer\n",
    "        self.max_length = max_length\n",
    "\n",
    "        # Define a mapping for sentiment labels\n",
    "        self.sentiment_map = {\"outrage\": 0, \"hope\": 1,\"despair\":2}  # You can add more sentiments if needed\n",
    "\n",
    "    def __len__(self):\n",
    "        return len(self.data)\n",
    "\n",
    "    def __getitem__(self, idx):\n",
    "        content = self.data.iloc[idx]['Headline']\n",
    "        label = self.data.iloc[idx]['Sentiment']\n",
    "\n",
    "        # Convert sentiment label to integer using the mapping\n",
    "        label = self.sentiment_map[label]\n",
    "\n",
    "        inputs = self.tokenizer.encode_plus(\n",
    "            content,\n",
    "            add_special_tokens=True,\n",
    "            max_length=self.max_length,\n",
    "            padding='max_length',\n",
    "            return_attention_mask=True,\n",
    "            return_tensors='pt',\n",
    "            truncation=True\n",
    "        )\n",
    "\n",
    "        return {\n",
    "            'input_ids': inputs['input_ids'].squeeze(),\n",
    "            'attention_mask': inputs['attention_mask'].squeeze(),\n",
    "            'label': torch.tensor(label, dtype=torch.long) #torch.nn.CrossEntropyLoss expects the target labels to be torch.LongTensor.\n",
    "        }\n"
   ]
  },
  {
   "cell_type": "code",
   "execution_count": null,
   "metadata": {
    "colab": {
     "base_uri": "https://localhost:8080/"
    },
    "id": "11UrYcBqC4m_",
    "outputId": "788200d8-98ee-489b-9242-91baaf206619",
    "trusted": true
   },
   "outputs": [],
   "source": [
    "!pip install git+https://github.com/csebuetnlp/normalizer"
   ]
  },
  {
   "cell_type": "code",
   "execution_count": null,
   "metadata": {
    "colab": {
     "base_uri": "https://localhost:8080/"
    },
    "id": "sP6-xV1nC5Fo",
    "outputId": "8438729a-5cab-4aaf-a629-eb48a436e002",
    "trusted": true
   },
   "outputs": [],
   "source": [
    "!pip install transformers[sentencepiece]"
   ]
  },
  {
   "cell_type": "code",
   "execution_count": null,
   "metadata": {
    "colab": {
     "base_uri": "https://localhost:8080/"
    },
    "id": "bRkXL79GC5KW",
    "outputId": "1a1d2b1a-bf96-4185-836f-60f568756a7b",
    "trusted": true
   },
   "outputs": [],
   "source": [
    "!pip install torch"
   ]
  },
  {
   "cell_type": "code",
   "execution_count": null,
   "metadata": {
    "colab": {
     "base_uri": "https://localhost:8080/"
    },
    "id": "crwbxj6oC86u",
    "outputId": "9bcfe604-38b9-4309-b559-4beba2f65bd7",
    "trusted": true
   },
   "outputs": [],
   "source": [
    "!pip install accelerate -U"
   ]
  },
  {
   "cell_type": "markdown",
   "metadata": {
    "id": "kErGt9ZpGwoJ"
   },
   "source": [
    "# **Bangla_bert_base model and its tokenizer**"
   ]
  },
  {
   "cell_type": "code",
   "execution_count": null,
   "metadata": {
    "colab": {
     "base_uri": "https://localhost:8080/"
    },
    "id": "vOL0xxSBnPMj",
    "outputId": "30fceac1-271b-435e-861a-3c6b72a76dd0",
    "trusted": true
   },
   "outputs": [],
   "source": [
    "!pip install sympy --upgrade"
   ]
  },
  {
   "cell_type": "code",
   "execution_count": null,
   "metadata": {
    "trusted": true
   },
   "outputs": [],
   "source": [
    "pip install --upgrade transformers\n"
   ]
  },
  {
   "cell_type": "code",
   "execution_count": null,
   "metadata": {
    "trusted": true
   },
   "outputs": [],
   "source": [
    "pip install --upgrade torch\n"
   ]
  },
  {
   "cell_type": "code",
   "execution_count": null,
   "metadata": {
    "trusted": true
   },
   "outputs": [],
   "source": [
    "pip install --upgrade pycparser\n"
   ]
  },
  {
   "cell_type": "code",
   "execution_count": null,
   "metadata": {
    "colab": {
     "base_uri": "https://localhost:8080/",
     "height": 212,
     "referenced_widgets": [
      "06d47d5addc647f5a13d29e67ee56f19",
      "84e2bb4e02ff4cca909b2af2df4e3036",
      "169c9eb614a447d1866e74c9aa7ef7a8",
      "9254ca53b2f24eb1bc6f8516ce3b7c93",
      "332e44b774a241cf88fc725ce92e046d",
      "7d8441dde6af40dfa4a195c0f1d48a03",
      "5ee6b1604a954090bb0e846dd9543dcc",
      "d6a274a756ef46ebbef06195bd6f12e6",
      "b1adcd466c7b43f4aa8aec8160bd45d9",
      "38bb7585430b49f180a42a21c7f07961",
      "c147180d308f483bb7787eb2843b031d",
      "973e5522489648aba68ed9f2fe8a9997",
      "dadb9dbb7d234a65aff43e9a3d200811",
      "998c01a898b24eb6965e2d1f2ed8ed07",
      "e82bc2dd41754f4bb89129e4d5a13937",
      "2a8ad96206a3473da5d14a1896995e81",
      "c6c7d772580f446f89bc949d38ccff40",
      "83324b66510347538ec803304895d7e5",
      "bad760eab5fd40ca90d8328a514d61b7",
      "d73328606714420a96f8e8b6f920eec3",
      "3d05ff01a2344dd0a23eef15fac4746d",
      "8f4113f8ac384b5281007e36b52d431f",
      "64702e93dd1c4abaaa40278b88b0dc45",
      "00fc5360eed64f20b7cf275d89e016db",
      "ff2b7096872d4bdd9c70dc2683cca181",
      "487f9093fb184691902649270084a7b2",
      "912b2273d0104fb098eb529ee0bcb732",
      "3839c57069cd446eb09c642c05e0c645",
      "1d8c3f0ae1d0473b995b4160c9e35667",
      "6302bfc5b7eb4b509a1abbefea8bbe35",
      "d78fa82162d74285ac81aa28d88f2d7e",
      "22af636e1ab147fa81d7bdb22fdb2f93",
      "d9251b4d4108488880e2e0dd0e377d97",
      "dfc122d6a8c94bf89c64630aa4a76941",
      "a9bdf8f406c2451895de1366ca8b1733",
      "b348ad6aec49469a944c73b3725649c4",
      "16c8bbf543ca4612ba19005f50bf7f9c",
      "d66446d9bc2f4331bae6ea6a4f242bf6",
      "f95f1e1f5d4a4e788a8fcafaedab5b57",
      "dd4fb782a741427fb6a510729ff7f871",
      "5b1800877f1c4b3a8f28e75cac02665e",
      "643775bd5e44487bb04beade7675a602",
      "64d0e65f11cf4ce888214c7093b67671",
      "499c77e2d6de47cdbbbeecd9fedc80bd",
      "bcdb64bfff964a57a8b0912dcc57dffa",
      "2ebb8fdb1b944253921c230eba87056d",
      "eeceac368a53422284a2f1651fbc2a74",
      "5f7f56932823400780d1e570ba779d42",
      "abe6cc082a924ddb894660dfa77f48ce",
      "1857735de7f844dcb870778359deb1f5",
      "8a51064a2cde47dfabb659527fd57dc0",
      "b64d94cc88e649f8bba5f06795430374",
      "5984ba47de9a46cd8f6bdd049271de39",
      "4aa86fb9bb714850b98ff72812a45ddb",
      "61e523a376f94db08b39dd50875cc8d5"
     ]
    },
    "id": "tkgKQFwB0T-m",
    "outputId": "437d275e-9ae1-485c-d1c6-6b283b9981e9",
    "trusted": true
   },
   "outputs": [],
   "source": [
    "# Model loading\n",
    "from transformers import AutoModelForSequenceClassification, AutoTokenizer, AdamW\n",
    "from normalizer import normalize # pip install git+https://github.com/csebuetnlp/normalizer\n",
    "num_classes = 3  #number of classes in our dataset\n",
    "from transformers import RobertaTokenizer\n",
    "model_name = \"FacebookAI/xlm-roberta-base\"\n",
    "model = AutoModelForSequenceClassification.from_pretrained(model_name, num_labels=num_classes)\n"
   ]
  },
  {
   "cell_type": "code",
   "execution_count": null,
   "metadata": {
    "trusted": true
   },
   "outputs": [],
   "source": [
    "tokenizer = AutoTokenizer.from_pretrained(model_name)"
   ]
  },
  {
   "cell_type": "code",
   "execution_count": null,
   "metadata": {
    "colab": {
     "base_uri": "https://localhost:8080/"
    },
    "id": "6aLIRdgbyWOq",
    "outputId": "97646b92-6722-46c3-b837-88d6fdafd418",
    "trusted": true
   },
   "outputs": [],
   "source": [
    "import torch\n",
    "device = torch.device(\"cuda\" if torch.cuda.is_available() else \"cpu\")\n",
    "model.to(device)"
   ]
  },
  {
   "cell_type": "markdown",
   "metadata": {
    "id": "h7Xez_VJGThM"
   },
   "source": [
    "# **Apply normalization to the datasets**"
   ]
  },
  {
   "cell_type": "code",
   "execution_count": null,
   "metadata": {
    "id": "AYQpkUjCGSUC",
    "trusted": true
   },
   "outputs": [],
   "source": [
    "# Apply normalization to the datasets\n",
    "train_data['Headline'] = train_data['Headline'].apply(normalize)\n",
    "test_data['Headline'] = test_data['Headline'].apply(normalize)\n",
    "val_data['Headline'] = val_data['Headline'].apply(normalize)"
   ]
  },
  {
   "cell_type": "markdown",
   "metadata": {
    "id": "n9-MGZkeG4-0"
   },
   "source": [
    "# **Custom dataset and dataloader**"
   ]
  },
  {
   "cell_type": "code",
   "execution_count": null,
   "metadata": {
    "id": "O-tLeV43ynJu",
    "trusted": true
   },
   "outputs": [],
   "source": [
    "# Define custom datasets\n",
    "train_dataset = BanglaPoliticalSentimentDataset(train_data, tokenizer)\n",
    "val_dataset = BanglaPoliticalSentimentDataset(val_data, tokenizer)\n",
    "test_dataset = BanglaPoliticalSentimentDataset(test_data, tokenizer)\n",
    "\n",
    "# Define data loaders\n",
    "train_loader = DataLoader(train_dataset, batch_size=6, shuffle=True)\n",
    "val_loader = DataLoader(val_dataset, batch_size=6, shuffle=False)\n",
    "test_loader = DataLoader(test_dataset, batch_size=6, shuffle=False)"
   ]
  },
  {
   "cell_type": "markdown",
   "metadata": {
    "id": "47cXtXdL_nMo"
   },
   "source": [
    "# **Train Dataset Encoding Printing**"
   ]
  },
  {
   "cell_type": "code",
   "execution_count": null,
   "metadata": {
    "colab": {
     "base_uri": "https://localhost:8080/"
    },
    "id": "20zI6bRN_bFu",
    "outputId": "afd7de80-f603-4a57-bcd1-e7de15234a98",
    "trusted": true
   },
   "outputs": [],
   "source": [
    "# Set a flag to track whether it's the first batch\n",
    "first_batch = True\n",
    "\n",
    "for batch in train_loader:\n",
    "    # Move inputs and labels to the GPU\n",
    "    inputs = {key: value.to(device) for key, value in batch.items()}  # Using 'batch' directly\n",
    "\n",
    "    # Extract information for the first example in the batch\n",
    "    input_ids = inputs['input_ids'][0]\n",
    "    attention_mask = inputs['attention_mask'][0]\n",
    "    labels = inputs['label'][0]\n",
    "\n",
    "\n",
    "    # Print information\n",
    "    print(\"Input IDs:\", input_ids)\n",
    "    print(\"Attention Mask:\", attention_mask)\n",
    "    print(\"Labels:\", labels)\n",
    "\n",
    "\n",
    "#     # Break out of the loop after processing the first batch\n",
    "    break\n"
   ]
  },
  {
   "cell_type": "markdown",
   "metadata": {
    "id": "0pZ42AGhB26D"
   },
   "source": [
    "# **Test Dataset Encoding Printing**"
   ]
  },
  {
   "cell_type": "code",
   "execution_count": null,
   "metadata": {
    "colab": {
     "base_uri": "https://localhost:8080/"
    },
    "id": "SYoY4WyfBtc5",
    "outputId": "77dd3e18-1b9b-4f6b-a159-2892714fd043",
    "trusted": true
   },
   "outputs": [],
   "source": [
    "# Set a flag to track whether it's the first batch\n",
    "first_batch = True\n",
    "\n",
    "for batch in test_loader:\n",
    "    # Move inputs and labels to the GPU\n",
    "    inputs = {key: value.to(device) for key, value in batch.items()}  # Using 'batch' directly\n",
    "\n",
    "    # Extract information for the first example in the batch\n",
    "    input_ids = inputs['input_ids'][0]\n",
    "    attention_mask = inputs['attention_mask'][0]\n",
    "    labels = inputs['label'][0]\n",
    "\n",
    "\n",
    "    # Print information\n",
    "    print(\"Input IDs:\", input_ids)\n",
    "    print(\"Attention Mask:\", attention_mask)\n",
    "    print(\"Labels:\", labels)\n",
    "\n",
    "\n",
    "    # Break out of the loop after processing the first batch\n",
    "    break\n"
   ]
  },
  {
   "cell_type": "markdown",
   "metadata": {
    "id": "sMZs9N5zB6Vk"
   },
   "source": [
    "# **Validation Dataset Encoding Printing**"
   ]
  },
  {
   "cell_type": "code",
   "execution_count": null,
   "metadata": {
    "colab": {
     "base_uri": "https://localhost:8080/"
    },
    "id": "q4vKjTD1BtqP",
    "outputId": "2aef2381-ccda-487d-9c02-9cb4500ea8ab",
    "trusted": true
   },
   "outputs": [],
   "source": [
    "# Set a flag to track whether it's the first batch\n",
    "first_batch = True\n",
    "\n",
    "for batch in val_loader:\n",
    "    # Move inputs and labels to the GPU\n",
    "    inputs = {key: value.to(device) for key, value in batch.items()}  # Using 'batch' directly\n",
    "\n",
    "    # Extract information for the first example in the batch\n",
    "    input_ids = inputs['input_ids'][0]\n",
    "    attention_mask = inputs['attention_mask'][0]\n",
    "    labels = inputs['label'][0]\n",
    "\n",
    "\n",
    "    # Print information\n",
    "    print(\"Input IDs:\", input_ids)\n",
    "    print(\"Attention Mask:\", attention_mask)\n",
    "    print(\"Labels:\", labels)\n",
    "\n",
    "\n",
    "    # Break out of the loop after processing the first batch\n",
    "    break\n"
   ]
  },
  {
   "cell_type": "markdown",
   "metadata": {
    "id": "gGPRkviKBl6z"
   },
   "source": [
    "# **Train Dataset Decoding Printing**"
   ]
  },
  {
   "cell_type": "code",
   "execution_count": null,
   "metadata": {
    "colab": {
     "base_uri": "https://localhost:8080/"
    },
    "id": "Z2QNeEF0_juI",
    "outputId": "fb801f61-895d-489e-9f6f-7c491c847080",
    "trusted": true
   },
   "outputs": [],
   "source": [
    "# Set a flag to track whether it's the first batch\n",
    "first_batch = True\n",
    "\n",
    "# Iterate through the DataLoader\n",
    "for batch in train_loader:\n",
    "    # Move inputs and labels to the GPU\n",
    "    inputs = {key: value.to(device) for key, value in batch.items()}\n",
    "\n",
    "    # Extract information for the first example in the batch\n",
    "    input_ids = inputs['input_ids'][0]\n",
    "    attention_mask = inputs['attention_mask'][0]\n",
    "    labels = inputs['label'][0]\n",
    "\n",
    "    # Check for problematic token IDs causing overflow error during decoding\n",
    "    problematic_ids = torch.nonzero((input_ids < 0) | (input_ids >= tokenizer.vocab_size))\n",
    "    if problematic_ids.numel() > 0:\n",
    "        print(\"Problematic Token IDs:\", input_ids[problematic_ids])\n",
    "        print(\"Problematic Token Positions:\", problematic_ids)\n",
    "        # Handle the problematic input IDs as needed\n",
    "        raise ValueError(\"Problematic token IDs detected\")\n",
    "\n",
    "    # Decode and print input text\n",
    "    decoded_input_text = tokenizer.decode(input_ids.clamp(0, tokenizer.vocab_size - 1), skip_special_tokens=True)\n",
    "    print(\"Decoded Input Text:\", decoded_input_text)\n",
    "    print(\"Attention Mask:\", attention_mask)\n",
    "\n",
    "    # Decode and print labels\n",
    "    decoded_labels = labels.item()  # Assuming labels are single integers\n",
    "    print(\"Label:\", decoded_labels)\n",
    "\n",
    "    # Break out of the loop after processing the first sample from the first batch\n",
    "    break\n"
   ]
  },
  {
   "cell_type": "markdown",
   "metadata": {
    "id": "JZlYAfUVCJcB"
   },
   "source": [
    "# **Test Dataset Decoding Printing**"
   ]
  },
  {
   "cell_type": "code",
   "execution_count": null,
   "metadata": {
    "colab": {
     "base_uri": "https://localhost:8080/"
    },
    "id": "md_OyaoxCDWx",
    "outputId": "c1f9b90e-d7c0-401c-f292-e43cbe551587",
    "trusted": true
   },
   "outputs": [],
   "source": [
    "# Set a flag to track whether it's the first batch\n",
    "first_batch = True\n",
    "\n",
    "# Iterate through the DataLoader\n",
    "for batch in test_loader:\n",
    "    # Move inputs and labels to the GPU\n",
    "    inputs = {key: value.to(device) for key, value in batch.items()}\n",
    "\n",
    "    # Extract information for the first example in the batch\n",
    "    input_ids = inputs['input_ids'][0]\n",
    "    attention_mask = inputs['attention_mask'][0]\n",
    "    labels = inputs['label'][0]\n",
    "\n",
    "    # Check for problematic token IDs causing overflow error during decoding\n",
    "    problematic_ids = torch.nonzero((input_ids < 0) | (input_ids >= tokenizer.vocab_size))\n",
    "    if problematic_ids.numel() > 0:\n",
    "        print(\"Problematic Token IDs:\", input_ids[problematic_ids])\n",
    "        print(\"Problematic Token Positions:\", problematic_ids)\n",
    "        # Handle the problematic input IDs as needed\n",
    "        raise ValueError(\"Problematic token IDs detected\")\n",
    "\n",
    "    # Decode and print input text\n",
    "    decoded_input_text = tokenizer.decode(input_ids.clamp(0, tokenizer.vocab_size - 1), skip_special_tokens=True)\n",
    "    print(\"Decoded Input Text:\", decoded_input_text)\n",
    "    print(\"Attention Mask:\", attention_mask)\n",
    "\n",
    "    # Decode and print labels\n",
    "    decoded_labels = labels.item()  # Assuming labels are single integers\n",
    "    print(\"Label:\", decoded_labels)\n",
    "\n",
    "    # Break out of the loop after processing the first sample from the first batch\n",
    "    break\n"
   ]
  },
  {
   "cell_type": "markdown",
   "metadata": {
    "id": "yiqthc3zCQCc"
   },
   "source": [
    "# **Validation Dataset Decoding Printing**"
   ]
  },
  {
   "cell_type": "code",
   "execution_count": null,
   "metadata": {
    "colab": {
     "base_uri": "https://localhost:8080/"
    },
    "id": "i7jR08HkCDcb",
    "outputId": "6877a9ba-a2e4-4fea-a877-c59009c38f7f",
    "trusted": true
   },
   "outputs": [],
   "source": [
    "# Set a flag to track whether it's the first batch\n",
    "first_batch = True\n",
    "\n",
    "# Iterate through the DataLoader\n",
    "for batch in val_loader:\n",
    "    # Move inputs and labels to the GPU\n",
    "    inputs = {key: value.to(device) for key, value in batch.items()}\n",
    "\n",
    "    # Extract information for the first example in the batch\n",
    "    input_ids = inputs['input_ids'][0]\n",
    "    attention_mask = inputs['attention_mask'][0]\n",
    "    labels = inputs['label'][0]\n",
    "\n",
    "    # Check for problematic token IDs causing overflow error during decoding\n",
    "    problematic_ids = torch.nonzero((input_ids < 0) | (input_ids >= tokenizer.vocab_size))\n",
    "    if problematic_ids.numel() > 0:\n",
    "        print(\"Problematic Token IDs:\", input_ids[problematic_ids])\n",
    "        print(\"Problematic Token Positions:\", problematic_ids)\n",
    "        # Handle the problematic input IDs as needed\n",
    "        raise ValueError(\"Problematic token IDs detected\")\n",
    "\n",
    "    # Decode and print input text\n",
    "    decoded_input_text = tokenizer.decode(input_ids.clamp(0, tokenizer.vocab_size - 1), skip_special_tokens=True)\n",
    "    print(\"Decoded Input Text:\", decoded_input_text)\n",
    "    print(\"Attention Mask:\", attention_mask)\n",
    "\n",
    "    # Decode and print labels\n",
    "    decoded_labels = labels.item()  # Assuming labels are single integers\n",
    "    print(\"Label:\", decoded_labels)\n",
    "\n",
    "    # Break out of the loop after processing the first sample from the first batch\n",
    "    break\n"
   ]
  },
  {
   "cell_type": "markdown",
   "metadata": {
    "id": "TcpL2A4_GSiU"
   },
   "source": [
    "# **Optimizer and Loss Function**"
   ]
  },
  {
   "cell_type": "code",
   "execution_count": null,
   "metadata": {
    "id": "Zusl9Tf-1gmX",
    "trusted": true
   },
   "outputs": [],
   "source": [
    "import torch.optim as optim\n",
    "learning_rate = 1e-5\n",
    "# Define the optimizer\n",
    "optimizer = optim.AdamW(model.parameters(), lr=learning_rate)\n",
    "criterion = torch.nn.CrossEntropyLoss()"
   ]
  },
  {
   "cell_type": "markdown",
   "metadata": {
    "id": "tUjXcnbuGVwN"
   },
   "source": [
    "# **Training the model**"
   ]
  },
  {
   "cell_type": "code",
   "execution_count": null,
   "metadata": {
    "colab": {
     "base_uri": "https://localhost:8080/"
    },
    "id": "i8C0VQyb1gs4",
    "outputId": "057afc0a-594e-4f12-e4ee-219039c248d4",
    "trusted": true
   },
   "outputs": [],
   "source": [
    "import torch\n",
    "import time\n",
    "from tqdm import tqdm\n",
    "from sklearn.metrics import accuracy_score\n",
    "\n",
    "num_epochs = 100\n",
    "gradient_accumulation_steps = 16  # Accumulate gradients over 16 steps\n",
    "patience = 10  # Number of epochs to wait for improvement\n",
    "best_val_accuracy = 0  # Track the best validation accuracy\n",
    "patience_counter = 0  # Counter to track epochs without improvement\n",
    "save_path = \"best_model.pth\"  # Path to save the best model\n",
    "\n",
    "for epoch in range(num_epochs):\n",
    "    start_time = time.time()  # Start time of the epoch\n",
    "    model.train()\n",
    "    total_loss = 0\n",
    "    train_preds = []\n",
    "    train_labels = []\n",
    "    optimizer.zero_grad()\n",
    "\n",
    "    # Wrap train_loader with tqdm for progress bar\n",
    "    for batch_idx, batch in enumerate(tqdm(train_loader, desc=f'Epoch {epoch + 1}/{num_epochs}', leave=False)):\n",
    "        input_ids = batch['input_ids'].to(device)\n",
    "        attention_mask = batch['attention_mask'].to(device)\n",
    "        labels = batch['label'].to(device)\n",
    "\n",
    "        outputs = model(input_ids=input_ids, attention_mask=attention_mask)\n",
    "        logits = outputs.logits  # Logits directly from the model output\n",
    "\n",
    "        loss = criterion(logits, labels)\n",
    "        total_loss += loss.item()\n",
    "\n",
    "        # Collect predictions and labels for training accuracy\n",
    "        _, predicted = torch.max(logits, 1)\n",
    "        train_preds.extend(predicted.cpu().numpy())\n",
    "        train_labels.extend(labels.cpu().numpy())\n",
    "\n",
    "        loss = loss / gradient_accumulation_steps\n",
    "        loss.backward()\n",
    "\n",
    "        if (batch_idx + 1) % gradient_accumulation_steps == 0:\n",
    "            optimizer.step()\n",
    "            optimizer.zero_grad()\n",
    "\n",
    "    # Calculate training accuracy\n",
    "    train_accuracy = accuracy_score(train_labels, train_preds)\n",
    "    avg_train_loss = total_loss / len(train_loader)\n",
    "    print(f'Epoch {epoch + 1}/{num_epochs} - Average training loss: {avg_train_loss:.4f} - Training Accuracy: {train_accuracy:.4f}')\n",
    "\n",
    "    # Validation\n",
    "    model.eval()\n",
    "    val_preds = []\n",
    "    val_labels = []\n",
    "    val_total_loss = 0  # To accumulate validation loss\n",
    "\n",
    "    # Wrap val_loader with tqdm for progress bar\n",
    "    with torch.no_grad():\n",
    "        for batch in tqdm(val_loader, desc=f'Validation', leave=False):\n",
    "            input_ids = batch['input_ids'].to(device)\n",
    "            attention_mask = batch['attention_mask'].to(device)\n",
    "            labels = batch['label'].to(device)\n",
    "\n",
    "            outputs = model(input_ids=input_ids, attention_mask=attention_mask)\n",
    "            logits = outputs.logits  # Logits directly from the model output\n",
    "\n",
    "            loss = criterion(logits, labels)\n",
    "            val_total_loss += loss.item()  # Accumulate validation loss\n",
    "\n",
    "            _, predicted = torch.max(logits, 1)\n",
    "\n",
    "            val_preds.extend(predicted.cpu().numpy())\n",
    "            val_labels.extend(labels.cpu().numpy())\n",
    "\n",
    "    val_accuracy = accuracy_score(val_labels, val_preds)\n",
    "    avg_val_loss = val_total_loss / len(val_loader)  # Average validation loss\n",
    "    print(f'Epoch {epoch + 1}/{num_epochs} - Validation Loss: {avg_val_loss:.4f} - Validation Accuracy: {val_accuracy:.4f}')\n",
    "\n",
    "    # Check for early stopping\n",
    "    if val_accuracy > best_val_accuracy:\n",
    "        best_val_accuracy = val_accuracy\n",
    "        patience_counter = 0\n",
    "        torch.save(model.state_dict(), save_path)  # Save the best model\n",
    "        print(f\"Best model saved with accuracy: {best_val_accuracy:.4f}\")\n",
    "    else:\n",
    "        patience_counter += 1\n",
    "        print(f\"No improvement in validation accuracy. Patience counter: {patience_counter}\")\n",
    "\n",
    "    # If patience is exceeded, stop training\n",
    "    if patience_counter >= patience:\n",
    "        print(\"Early stopping triggered. Training terminated.\")\n",
    "        break\n",
    "\n",
    "    # Calculate and print epoch training time\n",
    "    epoch_time = time.time() - start_time\n",
    "    print(f\"Epoch {epoch + 1} completed in {epoch_time // 60:.0f}m {epoch_time % 60:.0f}s\")\n",
    "\n",
    "print(\"Training complete. Best model saved at:\", save_path)\n"
   ]
  },
  {
   "cell_type": "markdown",
   "metadata": {
    "id": "PWaLvTInGDsm"
   },
   "source": [
    "# **Testing the model**"
   ]
  },
  {
   "cell_type": "code",
   "execution_count": null,
   "metadata": {
    "id": "by3TpLW11gwW",
    "trusted": true
   },
   "outputs": [],
   "source": [
    "test_preds = []\n",
    "test_labels = []\n",
    "test_probs = []  # Store predicted probabilities\n",
    "\n",
    "with torch.no_grad():\n",
    "    for batch in tqdm(test_loader, desc='Testing'):\n",
    "        input_ids = batch['input_ids'].to(device)\n",
    "        attention_mask = batch['attention_mask'].to(device)\n",
    "        labels = batch['label'].to(device)\n",
    "\n",
    "        outputs = model(input_ids=input_ids, attention_mask=attention_mask)\n",
    "\n",
    "        # Assuming our model directly outputs logits\n",
    "        probabilities = torch.softmax(outputs.logits, dim=1)  # Softmax to get probabilities\n",
    "        _, predicted = torch.max(outputs.logits, 1)\n",
    "\n",
    "        test_preds.extend(predicted.cpu().numpy())\n",
    "        test_labels.extend(labels.cpu().numpy())\n",
    "        test_probs.extend(probabilities.cpu().numpy())  # Append predicted probabilities\n",
    "\n",
    "test_accuracy = accuracy_score(test_labels, test_preds)\n",
    "test_precision = precision_score(test_labels, test_preds, average='macro')\n",
    "test_recall = recall_score(test_labels, test_preds, average='macro')\n",
    "test_f1 = f1_score(test_labels, test_preds, average='macro')"
   ]
  },
  {
   "cell_type": "code",
   "execution_count": null,
   "metadata": {
    "id": "LAZtet934_WM",
    "trusted": true
   },
   "outputs": [],
   "source": [
    "print(test_preds)\n",
    "print(test_labels)"
   ]
  },
  {
   "cell_type": "markdown",
   "metadata": {
    "id": "wMJnxfow5B6E"
   },
   "source": [
    "# **Printing the evaluation metric results**"
   ]
  },
  {
   "cell_type": "code",
   "execution_count": null,
   "metadata": {
    "id": "k46PXStc4yhY",
    "trusted": true
   },
   "outputs": [],
   "source": [
    "print(f'Test Accuracy: {test_accuracy}')\n",
    "print(f'Test Precision: {test_precision}')\n",
    "print(f'Test Recall: {test_recall}')\n",
    "print(f'Test F1 Score: {test_f1}')"
   ]
  },
  {
   "cell_type": "markdown",
   "metadata": {
    "id": "OLlqZy6zHT-2"
   },
   "source": [
    "# **Confusion Matrix of Bangla Political Sentiment**"
   ]
  },
  {
   "cell_type": "code",
   "execution_count": null,
   "metadata": {
    "id": "7LAaopHgGZrx",
    "trusted": true
   },
   "outputs": [],
   "source": [
    "# Generate confusion matrix\n",
    "conf_matrix = confusion_matrix(test_labels, test_preds)\n",
    "\n",
    "# Plot confusion matrix\n",
    "plt.figure(figsize=(8,6))\n",
    "# Define the custom palette\n",
    "custom_palette = sns.color_palette(\"crest\", as_cmap=True)# Modify the number based on number of classes in the dataset\n",
    "# Define custom font dictionary for title and labels\n",
    "font = {'family': 'Serif', 'weight': 'bold', 'size': 15}\n",
    "\n",
    "# Create heatmap with annotations and colormap\n",
    "heatmap = sns.heatmap(conf_matrix, annot=True, fmt='d', cmap=custom_palette,vmin = 0,vmax = 250,\n",
    "                      xticklabels=['Negative', 'Positive'], yticklabels=['Negative', 'Positive'],annot_kws={\"family\": \"Serif\",'weight': 'bold', 'size': 12})\n",
    "\n",
    "# Set x and y labels with the custom font dictionary\n",
    "heatmap.set_xlabel('Predicted Labels', fontdict=font)\n",
    "heatmap.set_ylabel('True Labels', fontdict=font)\n",
    "heatmap.set_title('Political Sentiment Analysis', fontdict=font)\n",
    "\n",
    "# Set font properties for tick labels on both axes\n",
    "heatmap.set_xticklabels(heatmap.get_xticklabels(), fontname='Serif', fontsize=12)\n",
    "heatmap.set_yticklabels(heatmap.get_yticklabels(), fontname='Serif', fontsize=12)\n",
    "\n",
    "# Create a color bar to indicate the scale\n",
    "cbar = heatmap.collections[0].colorbar\n",
    "cbar.set_label('Count', fontdict=font)\n",
    "cbar.ax.tick_params(labelsize=10)\n",
    "# Adjust layout to prevent cropping\n",
    "plt.tight_layout()\n",
    "plt.savefig('cm.pdf')  # Save as pdf format\n",
    "plt.show()\n"
   ]
  }
 ],
 "metadata": {
  "accelerator": "GPU",
  "colab": {
   "gpuType": "T4",
   "provenance": []
  },
  "kaggle": {
   "accelerator": "gpu",
   "dataSources": [
    {
     "datasetId": 6491830,
     "sourceId": 10485070,
     "sourceType": "datasetVersion"
    },
    {
     "datasetId": 6491833,
     "sourceId": 10485077,
     "sourceType": "datasetVersion"
    }
   ],
   "dockerImageVersionId": 30840,
   "isGpuEnabled": true,
   "isInternetEnabled": true,
   "language": "python",
   "sourceType": "notebook"
  },
  "kernelspec": {
   "display_name": "Python 3",
   "language": "python",
   "name": "python3"
  },
  "language_info": {
   "codemirror_mode": {
    "name": "ipython",
    "version": 3
   },
   "file_extension": ".py",
   "mimetype": "text/x-python",
   "name": "python",
   "nbconvert_exporter": "python",
   "pygments_lexer": "ipython3",
   "version": "3.10.12"
  },
  "widgets": {
   "application/vnd.jupyter.widget-state+json": {
    "00fc5360eed64f20b7cf275d89e016db": {
     "model_module": "@jupyter-widgets/controls",
     "model_module_version": "1.5.0",
     "model_name": "HTMLModel",
     "state": {
      "_dom_classes": [],
      "_model_module": "@jupyter-widgets/controls",
      "_model_module_version": "1.5.0",
      "_model_name": "HTMLModel",
      "_view_count": null,
      "_view_module": "@jupyter-widgets/controls",
      "_view_module_version": "1.5.0",
      "_view_name": "HTMLView",
      "description": "",
      "description_tooltip": null,
      "layout": "IPY_MODEL_3839c57069cd446eb09c642c05e0c645",
      "placeholder": "​",
      "style": "IPY_MODEL_1d8c3f0ae1d0473b995b4160c9e35667",
      "value": "tokenizer_config.json: 100%"
     }
    },
    "06d47d5addc647f5a13d29e67ee56f19": {
     "model_module": "@jupyter-widgets/controls",
     "model_module_version": "1.5.0",
     "model_name": "HBoxModel",
     "state": {
      "_dom_classes": [],
      "_model_module": "@jupyter-widgets/controls",
      "_model_module_version": "1.5.0",
      "_model_name": "HBoxModel",
      "_view_count": null,
      "_view_module": "@jupyter-widgets/controls",
      "_view_module_version": "1.5.0",
      "_view_name": "HBoxView",
      "box_style": "",
      "children": [
       "IPY_MODEL_84e2bb4e02ff4cca909b2af2df4e3036",
       "IPY_MODEL_169c9eb614a447d1866e74c9aa7ef7a8",
       "IPY_MODEL_9254ca53b2f24eb1bc6f8516ce3b7c93"
      ],
      "layout": "IPY_MODEL_332e44b774a241cf88fc725ce92e046d"
     }
    },
    "169c9eb614a447d1866e74c9aa7ef7a8": {
     "model_module": "@jupyter-widgets/controls",
     "model_module_version": "1.5.0",
     "model_name": "FloatProgressModel",
     "state": {
      "_dom_classes": [],
      "_model_module": "@jupyter-widgets/controls",
      "_model_module_version": "1.5.0",
      "_model_name": "FloatProgressModel",
      "_view_count": null,
      "_view_module": "@jupyter-widgets/controls",
      "_view_module_version": "1.5.0",
      "_view_name": "ProgressView",
      "bar_style": "success",
      "description": "",
      "description_tooltip": null,
      "layout": "IPY_MODEL_d6a274a756ef46ebbef06195bd6f12e6",
      "max": 391,
      "min": 0,
      "orientation": "horizontal",
      "style": "IPY_MODEL_b1adcd466c7b43f4aa8aec8160bd45d9",
      "value": 391
     }
    },
    "16c8bbf543ca4612ba19005f50bf7f9c": {
     "model_module": "@jupyter-widgets/controls",
     "model_module_version": "1.5.0",
     "model_name": "HTMLModel",
     "state": {
      "_dom_classes": [],
      "_model_module": "@jupyter-widgets/controls",
      "_model_module_version": "1.5.0",
      "_model_name": "HTMLModel",
      "_view_count": null,
      "_view_module": "@jupyter-widgets/controls",
      "_view_module_version": "1.5.0",
      "_view_name": "HTMLView",
      "description": "",
      "description_tooltip": null,
      "layout": "IPY_MODEL_64d0e65f11cf4ce888214c7093b67671",
      "placeholder": "​",
      "style": "IPY_MODEL_499c77e2d6de47cdbbbeecd9fedc80bd",
      "value": " 492k/492k [00:00&lt;00:00, 3.51MB/s]"
     }
    },
    "1857735de7f844dcb870778359deb1f5": {
     "model_module": "@jupyter-widgets/base",
     "model_module_version": "1.2.0",
     "model_name": "LayoutModel",
     "state": {
      "_model_module": "@jupyter-widgets/base",
      "_model_module_version": "1.2.0",
      "_model_name": "LayoutModel",
      "_view_count": null,
      "_view_module": "@jupyter-widgets/base",
      "_view_module_version": "1.2.0",
      "_view_name": "LayoutView",
      "align_content": null,
      "align_items": null,
      "align_self": null,
      "border": null,
      "bottom": null,
      "display": null,
      "flex": null,
      "flex_flow": null,
      "grid_area": null,
      "grid_auto_columns": null,
      "grid_auto_flow": null,
      "grid_auto_rows": null,
      "grid_column": null,
      "grid_gap": null,
      "grid_row": null,
      "grid_template_areas": null,
      "grid_template_columns": null,
      "grid_template_rows": null,
      "height": null,
      "justify_content": null,
      "justify_items": null,
      "left": null,
      "margin": null,
      "max_height": null,
      "max_width": null,
      "min_height": null,
      "min_width": null,
      "object_fit": null,
      "object_position": null,
      "order": null,
      "overflow": null,
      "overflow_x": null,
      "overflow_y": null,
      "padding": null,
      "right": null,
      "top": null,
      "visibility": null,
      "width": null
     }
    },
    "1d8c3f0ae1d0473b995b4160c9e35667": {
     "model_module": "@jupyter-widgets/controls",
     "model_module_version": "1.5.0",
     "model_name": "DescriptionStyleModel",
     "state": {
      "_model_module": "@jupyter-widgets/controls",
      "_model_module_version": "1.5.0",
      "_model_name": "DescriptionStyleModel",
      "_view_count": null,
      "_view_module": "@jupyter-widgets/base",
      "_view_module_version": "1.2.0",
      "_view_name": "StyleView",
      "description_width": ""
     }
    },
    "22af636e1ab147fa81d7bdb22fdb2f93": {
     "model_module": "@jupyter-widgets/base",
     "model_module_version": "1.2.0",
     "model_name": "LayoutModel",
     "state": {
      "_model_module": "@jupyter-widgets/base",
      "_model_module_version": "1.2.0",
      "_model_name": "LayoutModel",
      "_view_count": null,
      "_view_module": "@jupyter-widgets/base",
      "_view_module_version": "1.2.0",
      "_view_name": "LayoutView",
      "align_content": null,
      "align_items": null,
      "align_self": null,
      "border": null,
      "bottom": null,
      "display": null,
      "flex": null,
      "flex_flow": null,
      "grid_area": null,
      "grid_auto_columns": null,
      "grid_auto_flow": null,
      "grid_auto_rows": null,
      "grid_column": null,
      "grid_gap": null,
      "grid_row": null,
      "grid_template_areas": null,
      "grid_template_columns": null,
      "grid_template_rows": null,
      "height": null,
      "justify_content": null,
      "justify_items": null,
      "left": null,
      "margin": null,
      "max_height": null,
      "max_width": null,
      "min_height": null,
      "min_width": null,
      "object_fit": null,
      "object_position": null,
      "order": null,
      "overflow": null,
      "overflow_x": null,
      "overflow_y": null,
      "padding": null,
      "right": null,
      "top": null,
      "visibility": null,
      "width": null
     }
    },
    "2a8ad96206a3473da5d14a1896995e81": {
     "model_module": "@jupyter-widgets/base",
     "model_module_version": "1.2.0",
     "model_name": "LayoutModel",
     "state": {
      "_model_module": "@jupyter-widgets/base",
      "_model_module_version": "1.2.0",
      "_model_name": "LayoutModel",
      "_view_count": null,
      "_view_module": "@jupyter-widgets/base",
      "_view_module_version": "1.2.0",
      "_view_name": "LayoutView",
      "align_content": null,
      "align_items": null,
      "align_self": null,
      "border": null,
      "bottom": null,
      "display": null,
      "flex": null,
      "flex_flow": null,
      "grid_area": null,
      "grid_auto_columns": null,
      "grid_auto_flow": null,
      "grid_auto_rows": null,
      "grid_column": null,
      "grid_gap": null,
      "grid_row": null,
      "grid_template_areas": null,
      "grid_template_columns": null,
      "grid_template_rows": null,
      "height": null,
      "justify_content": null,
      "justify_items": null,
      "left": null,
      "margin": null,
      "max_height": null,
      "max_width": null,
      "min_height": null,
      "min_width": null,
      "object_fit": null,
      "object_position": null,
      "order": null,
      "overflow": null,
      "overflow_x": null,
      "overflow_y": null,
      "padding": null,
      "right": null,
      "top": null,
      "visibility": null,
      "width": null
     }
    },
    "2ebb8fdb1b944253921c230eba87056d": {
     "model_module": "@jupyter-widgets/controls",
     "model_module_version": "1.5.0",
     "model_name": "HTMLModel",
     "state": {
      "_dom_classes": [],
      "_model_module": "@jupyter-widgets/controls",
      "_model_module_version": "1.5.0",
      "_model_name": "HTMLModel",
      "_view_count": null,
      "_view_module": "@jupyter-widgets/controls",
      "_view_module_version": "1.5.0",
      "_view_name": "HTMLView",
      "description": "",
      "description_tooltip": null,
      "layout": "IPY_MODEL_1857735de7f844dcb870778359deb1f5",
      "placeholder": "​",
      "style": "IPY_MODEL_8a51064a2cde47dfabb659527fd57dc0",
      "value": "special_tokens_map.json: 100%"
     }
    },
    "332e44b774a241cf88fc725ce92e046d": {
     "model_module": "@jupyter-widgets/base",
     "model_module_version": "1.2.0",
     "model_name": "LayoutModel",
     "state": {
      "_model_module": "@jupyter-widgets/base",
      "_model_module_version": "1.2.0",
      "_model_name": "LayoutModel",
      "_view_count": null,
      "_view_module": "@jupyter-widgets/base",
      "_view_module_version": "1.2.0",
      "_view_name": "LayoutView",
      "align_content": null,
      "align_items": null,
      "align_self": null,
      "border": null,
      "bottom": null,
      "display": null,
      "flex": null,
      "flex_flow": null,
      "grid_area": null,
      "grid_auto_columns": null,
      "grid_auto_flow": null,
      "grid_auto_rows": null,
      "grid_column": null,
      "grid_gap": null,
      "grid_row": null,
      "grid_template_areas": null,
      "grid_template_columns": null,
      "grid_template_rows": null,
      "height": null,
      "justify_content": null,
      "justify_items": null,
      "left": null,
      "margin": null,
      "max_height": null,
      "max_width": null,
      "min_height": null,
      "min_width": null,
      "object_fit": null,
      "object_position": null,
      "order": null,
      "overflow": null,
      "overflow_x": null,
      "overflow_y": null,
      "padding": null,
      "right": null,
      "top": null,
      "visibility": null,
      "width": null
     }
    },
    "3839c57069cd446eb09c642c05e0c645": {
     "model_module": "@jupyter-widgets/base",
     "model_module_version": "1.2.0",
     "model_name": "LayoutModel",
     "state": {
      "_model_module": "@jupyter-widgets/base",
      "_model_module_version": "1.2.0",
      "_model_name": "LayoutModel",
      "_view_count": null,
      "_view_module": "@jupyter-widgets/base",
      "_view_module_version": "1.2.0",
      "_view_name": "LayoutView",
      "align_content": null,
      "align_items": null,
      "align_self": null,
      "border": null,
      "bottom": null,
      "display": null,
      "flex": null,
      "flex_flow": null,
      "grid_area": null,
      "grid_auto_columns": null,
      "grid_auto_flow": null,
      "grid_auto_rows": null,
      "grid_column": null,
      "grid_gap": null,
      "grid_row": null,
      "grid_template_areas": null,
      "grid_template_columns": null,
      "grid_template_rows": null,
      "height": null,
      "justify_content": null,
      "justify_items": null,
      "left": null,
      "margin": null,
      "max_height": null,
      "max_width": null,
      "min_height": null,
      "min_width": null,
      "object_fit": null,
      "object_position": null,
      "order": null,
      "overflow": null,
      "overflow_x": null,
      "overflow_y": null,
      "padding": null,
      "right": null,
      "top": null,
      "visibility": null,
      "width": null
     }
    },
    "38bb7585430b49f180a42a21c7f07961": {
     "model_module": "@jupyter-widgets/base",
     "model_module_version": "1.2.0",
     "model_name": "LayoutModel",
     "state": {
      "_model_module": "@jupyter-widgets/base",
      "_model_module_version": "1.2.0",
      "_model_name": "LayoutModel",
      "_view_count": null,
      "_view_module": "@jupyter-widgets/base",
      "_view_module_version": "1.2.0",
      "_view_name": "LayoutView",
      "align_content": null,
      "align_items": null,
      "align_self": null,
      "border": null,
      "bottom": null,
      "display": null,
      "flex": null,
      "flex_flow": null,
      "grid_area": null,
      "grid_auto_columns": null,
      "grid_auto_flow": null,
      "grid_auto_rows": null,
      "grid_column": null,
      "grid_gap": null,
      "grid_row": null,
      "grid_template_areas": null,
      "grid_template_columns": null,
      "grid_template_rows": null,
      "height": null,
      "justify_content": null,
      "justify_items": null,
      "left": null,
      "margin": null,
      "max_height": null,
      "max_width": null,
      "min_height": null,
      "min_width": null,
      "object_fit": null,
      "object_position": null,
      "order": null,
      "overflow": null,
      "overflow_x": null,
      "overflow_y": null,
      "padding": null,
      "right": null,
      "top": null,
      "visibility": null,
      "width": null
     }
    },
    "3d05ff01a2344dd0a23eef15fac4746d": {
     "model_module": "@jupyter-widgets/base",
     "model_module_version": "1.2.0",
     "model_name": "LayoutModel",
     "state": {
      "_model_module": "@jupyter-widgets/base",
      "_model_module_version": "1.2.0",
      "_model_name": "LayoutModel",
      "_view_count": null,
      "_view_module": "@jupyter-widgets/base",
      "_view_module_version": "1.2.0",
      "_view_name": "LayoutView",
      "align_content": null,
      "align_items": null,
      "align_self": null,
      "border": null,
      "bottom": null,
      "display": null,
      "flex": null,
      "flex_flow": null,
      "grid_area": null,
      "grid_auto_columns": null,
      "grid_auto_flow": null,
      "grid_auto_rows": null,
      "grid_column": null,
      "grid_gap": null,
      "grid_row": null,
      "grid_template_areas": null,
      "grid_template_columns": null,
      "grid_template_rows": null,
      "height": null,
      "justify_content": null,
      "justify_items": null,
      "left": null,
      "margin": null,
      "max_height": null,
      "max_width": null,
      "min_height": null,
      "min_width": null,
      "object_fit": null,
      "object_position": null,
      "order": null,
      "overflow": null,
      "overflow_x": null,
      "overflow_y": null,
      "padding": null,
      "right": null,
      "top": null,
      "visibility": null,
      "width": null
     }
    },
    "487f9093fb184691902649270084a7b2": {
     "model_module": "@jupyter-widgets/controls",
     "model_module_version": "1.5.0",
     "model_name": "HTMLModel",
     "state": {
      "_dom_classes": [],
      "_model_module": "@jupyter-widgets/controls",
      "_model_module_version": "1.5.0",
      "_model_name": "HTMLModel",
      "_view_count": null,
      "_view_module": "@jupyter-widgets/controls",
      "_view_module_version": "1.5.0",
      "_view_name": "HTMLView",
      "description": "",
      "description_tooltip": null,
      "layout": "IPY_MODEL_22af636e1ab147fa81d7bdb22fdb2f93",
      "placeholder": "​",
      "style": "IPY_MODEL_d9251b4d4108488880e2e0dd0e377d97",
      "value": " 161/161 [00:00&lt;00:00, 3.59kB/s]"
     }
    },
    "499c77e2d6de47cdbbbeecd9fedc80bd": {
     "model_module": "@jupyter-widgets/controls",
     "model_module_version": "1.5.0",
     "model_name": "DescriptionStyleModel",
     "state": {
      "_model_module": "@jupyter-widgets/controls",
      "_model_module_version": "1.5.0",
      "_model_name": "DescriptionStyleModel",
      "_view_count": null,
      "_view_module": "@jupyter-widgets/base",
      "_view_module_version": "1.2.0",
      "_view_name": "StyleView",
      "description_width": ""
     }
    },
    "4aa86fb9bb714850b98ff72812a45ddb": {
     "model_module": "@jupyter-widgets/base",
     "model_module_version": "1.2.0",
     "model_name": "LayoutModel",
     "state": {
      "_model_module": "@jupyter-widgets/base",
      "_model_module_version": "1.2.0",
      "_model_name": "LayoutModel",
      "_view_count": null,
      "_view_module": "@jupyter-widgets/base",
      "_view_module_version": "1.2.0",
      "_view_name": "LayoutView",
      "align_content": null,
      "align_items": null,
      "align_self": null,
      "border": null,
      "bottom": null,
      "display": null,
      "flex": null,
      "flex_flow": null,
      "grid_area": null,
      "grid_auto_columns": null,
      "grid_auto_flow": null,
      "grid_auto_rows": null,
      "grid_column": null,
      "grid_gap": null,
      "grid_row": null,
      "grid_template_areas": null,
      "grid_template_columns": null,
      "grid_template_rows": null,
      "height": null,
      "justify_content": null,
      "justify_items": null,
      "left": null,
      "margin": null,
      "max_height": null,
      "max_width": null,
      "min_height": null,
      "min_width": null,
      "object_fit": null,
      "object_position": null,
      "order": null,
      "overflow": null,
      "overflow_x": null,
      "overflow_y": null,
      "padding": null,
      "right": null,
      "top": null,
      "visibility": null,
      "width": null
     }
    },
    "5984ba47de9a46cd8f6bdd049271de39": {
     "model_module": "@jupyter-widgets/controls",
     "model_module_version": "1.5.0",
     "model_name": "ProgressStyleModel",
     "state": {
      "_model_module": "@jupyter-widgets/controls",
      "_model_module_version": "1.5.0",
      "_model_name": "ProgressStyleModel",
      "_view_count": null,
      "_view_module": "@jupyter-widgets/base",
      "_view_module_version": "1.2.0",
      "_view_name": "StyleView",
      "bar_color": null,
      "description_width": ""
     }
    },
    "5b1800877f1c4b3a8f28e75cac02665e": {
     "model_module": "@jupyter-widgets/base",
     "model_module_version": "1.2.0",
     "model_name": "LayoutModel",
     "state": {
      "_model_module": "@jupyter-widgets/base",
      "_model_module_version": "1.2.0",
      "_model_name": "LayoutModel",
      "_view_count": null,
      "_view_module": "@jupyter-widgets/base",
      "_view_module_version": "1.2.0",
      "_view_name": "LayoutView",
      "align_content": null,
      "align_items": null,
      "align_self": null,
      "border": null,
      "bottom": null,
      "display": null,
      "flex": null,
      "flex_flow": null,
      "grid_area": null,
      "grid_auto_columns": null,
      "grid_auto_flow": null,
      "grid_auto_rows": null,
      "grid_column": null,
      "grid_gap": null,
      "grid_row": null,
      "grid_template_areas": null,
      "grid_template_columns": null,
      "grid_template_rows": null,
      "height": null,
      "justify_content": null,
      "justify_items": null,
      "left": null,
      "margin": null,
      "max_height": null,
      "max_width": null,
      "min_height": null,
      "min_width": null,
      "object_fit": null,
      "object_position": null,
      "order": null,
      "overflow": null,
      "overflow_x": null,
      "overflow_y": null,
      "padding": null,
      "right": null,
      "top": null,
      "visibility": null,
      "width": null
     }
    },
    "5ee6b1604a954090bb0e846dd9543dcc": {
     "model_module": "@jupyter-widgets/controls",
     "model_module_version": "1.5.0",
     "model_name": "DescriptionStyleModel",
     "state": {
      "_model_module": "@jupyter-widgets/controls",
      "_model_module_version": "1.5.0",
      "_model_name": "DescriptionStyleModel",
      "_view_count": null,
      "_view_module": "@jupyter-widgets/base",
      "_view_module_version": "1.2.0",
      "_view_name": "StyleView",
      "description_width": ""
     }
    },
    "5f7f56932823400780d1e570ba779d42": {
     "model_module": "@jupyter-widgets/controls",
     "model_module_version": "1.5.0",
     "model_name": "HTMLModel",
     "state": {
      "_dom_classes": [],
      "_model_module": "@jupyter-widgets/controls",
      "_model_module_version": "1.5.0",
      "_model_name": "HTMLModel",
      "_view_count": null,
      "_view_module": "@jupyter-widgets/controls",
      "_view_module_version": "1.5.0",
      "_view_name": "HTMLView",
      "description": "",
      "description_tooltip": null,
      "layout": "IPY_MODEL_4aa86fb9bb714850b98ff72812a45ddb",
      "placeholder": "​",
      "style": "IPY_MODEL_61e523a376f94db08b39dd50875cc8d5",
      "value": " 112/112 [00:00&lt;00:00, 2.27kB/s]"
     }
    },
    "61e523a376f94db08b39dd50875cc8d5": {
     "model_module": "@jupyter-widgets/controls",
     "model_module_version": "1.5.0",
     "model_name": "DescriptionStyleModel",
     "state": {
      "_model_module": "@jupyter-widgets/controls",
      "_model_module_version": "1.5.0",
      "_model_name": "DescriptionStyleModel",
      "_view_count": null,
      "_view_module": "@jupyter-widgets/base",
      "_view_module_version": "1.2.0",
      "_view_name": "StyleView",
      "description_width": ""
     }
    },
    "6302bfc5b7eb4b509a1abbefea8bbe35": {
     "model_module": "@jupyter-widgets/base",
     "model_module_version": "1.2.0",
     "model_name": "LayoutModel",
     "state": {
      "_model_module": "@jupyter-widgets/base",
      "_model_module_version": "1.2.0",
      "_model_name": "LayoutModel",
      "_view_count": null,
      "_view_module": "@jupyter-widgets/base",
      "_view_module_version": "1.2.0",
      "_view_name": "LayoutView",
      "align_content": null,
      "align_items": null,
      "align_self": null,
      "border": null,
      "bottom": null,
      "display": null,
      "flex": null,
      "flex_flow": null,
      "grid_area": null,
      "grid_auto_columns": null,
      "grid_auto_flow": null,
      "grid_auto_rows": null,
      "grid_column": null,
      "grid_gap": null,
      "grid_row": null,
      "grid_template_areas": null,
      "grid_template_columns": null,
      "grid_template_rows": null,
      "height": null,
      "justify_content": null,
      "justify_items": null,
      "left": null,
      "margin": null,
      "max_height": null,
      "max_width": null,
      "min_height": null,
      "min_width": null,
      "object_fit": null,
      "object_position": null,
      "order": null,
      "overflow": null,
      "overflow_x": null,
      "overflow_y": null,
      "padding": null,
      "right": null,
      "top": null,
      "visibility": null,
      "width": null
     }
    },
    "643775bd5e44487bb04beade7675a602": {
     "model_module": "@jupyter-widgets/controls",
     "model_module_version": "1.5.0",
     "model_name": "ProgressStyleModel",
     "state": {
      "_model_module": "@jupyter-widgets/controls",
      "_model_module_version": "1.5.0",
      "_model_name": "ProgressStyleModel",
      "_view_count": null,
      "_view_module": "@jupyter-widgets/base",
      "_view_module_version": "1.2.0",
      "_view_name": "StyleView",
      "bar_color": null,
      "description_width": ""
     }
    },
    "64702e93dd1c4abaaa40278b88b0dc45": {
     "model_module": "@jupyter-widgets/controls",
     "model_module_version": "1.5.0",
     "model_name": "HBoxModel",
     "state": {
      "_dom_classes": [],
      "_model_module": "@jupyter-widgets/controls",
      "_model_module_version": "1.5.0",
      "_model_name": "HBoxModel",
      "_view_count": null,
      "_view_module": "@jupyter-widgets/controls",
      "_view_module_version": "1.5.0",
      "_view_name": "HBoxView",
      "box_style": "",
      "children": [
       "IPY_MODEL_00fc5360eed64f20b7cf275d89e016db",
       "IPY_MODEL_ff2b7096872d4bdd9c70dc2683cca181",
       "IPY_MODEL_487f9093fb184691902649270084a7b2"
      ],
      "layout": "IPY_MODEL_912b2273d0104fb098eb529ee0bcb732"
     }
    },
    "64d0e65f11cf4ce888214c7093b67671": {
     "model_module": "@jupyter-widgets/base",
     "model_module_version": "1.2.0",
     "model_name": "LayoutModel",
     "state": {
      "_model_module": "@jupyter-widgets/base",
      "_model_module_version": "1.2.0",
      "_model_name": "LayoutModel",
      "_view_count": null,
      "_view_module": "@jupyter-widgets/base",
      "_view_module_version": "1.2.0",
      "_view_name": "LayoutView",
      "align_content": null,
      "align_items": null,
      "align_self": null,
      "border": null,
      "bottom": null,
      "display": null,
      "flex": null,
      "flex_flow": null,
      "grid_area": null,
      "grid_auto_columns": null,
      "grid_auto_flow": null,
      "grid_auto_rows": null,
      "grid_column": null,
      "grid_gap": null,
      "grid_row": null,
      "grid_template_areas": null,
      "grid_template_columns": null,
      "grid_template_rows": null,
      "height": null,
      "justify_content": null,
      "justify_items": null,
      "left": null,
      "margin": null,
      "max_height": null,
      "max_width": null,
      "min_height": null,
      "min_width": null,
      "object_fit": null,
      "object_position": null,
      "order": null,
      "overflow": null,
      "overflow_x": null,
      "overflow_y": null,
      "padding": null,
      "right": null,
      "top": null,
      "visibility": null,
      "width": null
     }
    },
    "7d8441dde6af40dfa4a195c0f1d48a03": {
     "model_module": "@jupyter-widgets/base",
     "model_module_version": "1.2.0",
     "model_name": "LayoutModel",
     "state": {
      "_model_module": "@jupyter-widgets/base",
      "_model_module_version": "1.2.0",
      "_model_name": "LayoutModel",
      "_view_count": null,
      "_view_module": "@jupyter-widgets/base",
      "_view_module_version": "1.2.0",
      "_view_name": "LayoutView",
      "align_content": null,
      "align_items": null,
      "align_self": null,
      "border": null,
      "bottom": null,
      "display": null,
      "flex": null,
      "flex_flow": null,
      "grid_area": null,
      "grid_auto_columns": null,
      "grid_auto_flow": null,
      "grid_auto_rows": null,
      "grid_column": null,
      "grid_gap": null,
      "grid_row": null,
      "grid_template_areas": null,
      "grid_template_columns": null,
      "grid_template_rows": null,
      "height": null,
      "justify_content": null,
      "justify_items": null,
      "left": null,
      "margin": null,
      "max_height": null,
      "max_width": null,
      "min_height": null,
      "min_width": null,
      "object_fit": null,
      "object_position": null,
      "order": null,
      "overflow": null,
      "overflow_x": null,
      "overflow_y": null,
      "padding": null,
      "right": null,
      "top": null,
      "visibility": null,
      "width": null
     }
    },
    "83324b66510347538ec803304895d7e5": {
     "model_module": "@jupyter-widgets/controls",
     "model_module_version": "1.5.0",
     "model_name": "DescriptionStyleModel",
     "state": {
      "_model_module": "@jupyter-widgets/controls",
      "_model_module_version": "1.5.0",
      "_model_name": "DescriptionStyleModel",
      "_view_count": null,
      "_view_module": "@jupyter-widgets/base",
      "_view_module_version": "1.2.0",
      "_view_name": "StyleView",
      "description_width": ""
     }
    },
    "84e2bb4e02ff4cca909b2af2df4e3036": {
     "model_module": "@jupyter-widgets/controls",
     "model_module_version": "1.5.0",
     "model_name": "HTMLModel",
     "state": {
      "_dom_classes": [],
      "_model_module": "@jupyter-widgets/controls",
      "_model_module_version": "1.5.0",
      "_model_name": "HTMLModel",
      "_view_count": null,
      "_view_module": "@jupyter-widgets/controls",
      "_view_module_version": "1.5.0",
      "_view_name": "HTMLView",
      "description": "",
      "description_tooltip": null,
      "layout": "IPY_MODEL_7d8441dde6af40dfa4a195c0f1d48a03",
      "placeholder": "​",
      "style": "IPY_MODEL_5ee6b1604a954090bb0e846dd9543dcc",
      "value": "config.json: 100%"
     }
    },
    "8a51064a2cde47dfabb659527fd57dc0": {
     "model_module": "@jupyter-widgets/controls",
     "model_module_version": "1.5.0",
     "model_name": "DescriptionStyleModel",
     "state": {
      "_model_module": "@jupyter-widgets/controls",
      "_model_module_version": "1.5.0",
      "_model_name": "DescriptionStyleModel",
      "_view_count": null,
      "_view_module": "@jupyter-widgets/base",
      "_view_module_version": "1.2.0",
      "_view_name": "StyleView",
      "description_width": ""
     }
    },
    "8f4113f8ac384b5281007e36b52d431f": {
     "model_module": "@jupyter-widgets/controls",
     "model_module_version": "1.5.0",
     "model_name": "DescriptionStyleModel",
     "state": {
      "_model_module": "@jupyter-widgets/controls",
      "_model_module_version": "1.5.0",
      "_model_name": "DescriptionStyleModel",
      "_view_count": null,
      "_view_module": "@jupyter-widgets/base",
      "_view_module_version": "1.2.0",
      "_view_name": "StyleView",
      "description_width": ""
     }
    },
    "912b2273d0104fb098eb529ee0bcb732": {
     "model_module": "@jupyter-widgets/base",
     "model_module_version": "1.2.0",
     "model_name": "LayoutModel",
     "state": {
      "_model_module": "@jupyter-widgets/base",
      "_model_module_version": "1.2.0",
      "_model_name": "LayoutModel",
      "_view_count": null,
      "_view_module": "@jupyter-widgets/base",
      "_view_module_version": "1.2.0",
      "_view_name": "LayoutView",
      "align_content": null,
      "align_items": null,
      "align_self": null,
      "border": null,
      "bottom": null,
      "display": null,
      "flex": null,
      "flex_flow": null,
      "grid_area": null,
      "grid_auto_columns": null,
      "grid_auto_flow": null,
      "grid_auto_rows": null,
      "grid_column": null,
      "grid_gap": null,
      "grid_row": null,
      "grid_template_areas": null,
      "grid_template_columns": null,
      "grid_template_rows": null,
      "height": null,
      "justify_content": null,
      "justify_items": null,
      "left": null,
      "margin": null,
      "max_height": null,
      "max_width": null,
      "min_height": null,
      "min_width": null,
      "object_fit": null,
      "object_position": null,
      "order": null,
      "overflow": null,
      "overflow_x": null,
      "overflow_y": null,
      "padding": null,
      "right": null,
      "top": null,
      "visibility": null,
      "width": null
     }
    },
    "9254ca53b2f24eb1bc6f8516ce3b7c93": {
     "model_module": "@jupyter-widgets/controls",
     "model_module_version": "1.5.0",
     "model_name": "HTMLModel",
     "state": {
      "_dom_classes": [],
      "_model_module": "@jupyter-widgets/controls",
      "_model_module_version": "1.5.0",
      "_model_name": "HTMLModel",
      "_view_count": null,
      "_view_module": "@jupyter-widgets/controls",
      "_view_module_version": "1.5.0",
      "_view_name": "HTMLView",
      "description": "",
      "description_tooltip": null,
      "layout": "IPY_MODEL_38bb7585430b49f180a42a21c7f07961",
      "placeholder": "​",
      "style": "IPY_MODEL_c147180d308f483bb7787eb2843b031d",
      "value": " 391/391 [00:00&lt;00:00, 9.27kB/s]"
     }
    },
    "973e5522489648aba68ed9f2fe8a9997": {
     "model_module": "@jupyter-widgets/controls",
     "model_module_version": "1.5.0",
     "model_name": "HBoxModel",
     "state": {
      "_dom_classes": [],
      "_model_module": "@jupyter-widgets/controls",
      "_model_module_version": "1.5.0",
      "_model_name": "HBoxModel",
      "_view_count": null,
      "_view_module": "@jupyter-widgets/controls",
      "_view_module_version": "1.5.0",
      "_view_name": "HBoxView",
      "box_style": "",
      "children": [
       "IPY_MODEL_dadb9dbb7d234a65aff43e9a3d200811",
       "IPY_MODEL_998c01a898b24eb6965e2d1f2ed8ed07",
       "IPY_MODEL_e82bc2dd41754f4bb89129e4d5a13937"
      ],
      "layout": "IPY_MODEL_2a8ad96206a3473da5d14a1896995e81"
     }
    },
    "998c01a898b24eb6965e2d1f2ed8ed07": {
     "model_module": "@jupyter-widgets/controls",
     "model_module_version": "1.5.0",
     "model_name": "FloatProgressModel",
     "state": {
      "_dom_classes": [],
      "_model_module": "@jupyter-widgets/controls",
      "_model_module_version": "1.5.0",
      "_model_name": "FloatProgressModel",
      "_view_count": null,
      "_view_module": "@jupyter-widgets/controls",
      "_view_module_version": "1.5.0",
      "_view_name": "ProgressView",
      "bar_style": "success",
      "description": "",
      "description_tooltip": null,
      "layout": "IPY_MODEL_bad760eab5fd40ca90d8328a514d61b7",
      "max": 53900764,
      "min": 0,
      "orientation": "horizontal",
      "style": "IPY_MODEL_d73328606714420a96f8e8b6f920eec3",
      "value": 53900764
     }
    },
    "a9bdf8f406c2451895de1366ca8b1733": {
     "model_module": "@jupyter-widgets/controls",
     "model_module_version": "1.5.0",
     "model_name": "HTMLModel",
     "state": {
      "_dom_classes": [],
      "_model_module": "@jupyter-widgets/controls",
      "_model_module_version": "1.5.0",
      "_model_name": "HTMLModel",
      "_view_count": null,
      "_view_module": "@jupyter-widgets/controls",
      "_view_module_version": "1.5.0",
      "_view_name": "HTMLView",
      "description": "",
      "description_tooltip": null,
      "layout": "IPY_MODEL_f95f1e1f5d4a4e788a8fcafaedab5b57",
      "placeholder": "​",
      "style": "IPY_MODEL_dd4fb782a741427fb6a510729ff7f871",
      "value": "vocab.txt: 100%"
     }
    },
    "abe6cc082a924ddb894660dfa77f48ce": {
     "model_module": "@jupyter-widgets/base",
     "model_module_version": "1.2.0",
     "model_name": "LayoutModel",
     "state": {
      "_model_module": "@jupyter-widgets/base",
      "_model_module_version": "1.2.0",
      "_model_name": "LayoutModel",
      "_view_count": null,
      "_view_module": "@jupyter-widgets/base",
      "_view_module_version": "1.2.0",
      "_view_name": "LayoutView",
      "align_content": null,
      "align_items": null,
      "align_self": null,
      "border": null,
      "bottom": null,
      "display": null,
      "flex": null,
      "flex_flow": null,
      "grid_area": null,
      "grid_auto_columns": null,
      "grid_auto_flow": null,
      "grid_auto_rows": null,
      "grid_column": null,
      "grid_gap": null,
      "grid_row": null,
      "grid_template_areas": null,
      "grid_template_columns": null,
      "grid_template_rows": null,
      "height": null,
      "justify_content": null,
      "justify_items": null,
      "left": null,
      "margin": null,
      "max_height": null,
      "max_width": null,
      "min_height": null,
      "min_width": null,
      "object_fit": null,
      "object_position": null,
      "order": null,
      "overflow": null,
      "overflow_x": null,
      "overflow_y": null,
      "padding": null,
      "right": null,
      "top": null,
      "visibility": null,
      "width": null
     }
    },
    "b1adcd466c7b43f4aa8aec8160bd45d9": {
     "model_module": "@jupyter-widgets/controls",
     "model_module_version": "1.5.0",
     "model_name": "ProgressStyleModel",
     "state": {
      "_model_module": "@jupyter-widgets/controls",
      "_model_module_version": "1.5.0",
      "_model_name": "ProgressStyleModel",
      "_view_count": null,
      "_view_module": "@jupyter-widgets/base",
      "_view_module_version": "1.2.0",
      "_view_name": "StyleView",
      "bar_color": null,
      "description_width": ""
     }
    },
    "b348ad6aec49469a944c73b3725649c4": {
     "model_module": "@jupyter-widgets/controls",
     "model_module_version": "1.5.0",
     "model_name": "FloatProgressModel",
     "state": {
      "_dom_classes": [],
      "_model_module": "@jupyter-widgets/controls",
      "_model_module_version": "1.5.0",
      "_model_name": "FloatProgressModel",
      "_view_count": null,
      "_view_module": "@jupyter-widgets/controls",
      "_view_module_version": "1.5.0",
      "_view_name": "ProgressView",
      "bar_style": "success",
      "description": "",
      "description_tooltip": null,
      "layout": "IPY_MODEL_5b1800877f1c4b3a8f28e75cac02665e",
      "max": 492142,
      "min": 0,
      "orientation": "horizontal",
      "style": "IPY_MODEL_643775bd5e44487bb04beade7675a602",
      "value": 492142
     }
    },
    "b64d94cc88e649f8bba5f06795430374": {
     "model_module": "@jupyter-widgets/base",
     "model_module_version": "1.2.0",
     "model_name": "LayoutModel",
     "state": {
      "_model_module": "@jupyter-widgets/base",
      "_model_module_version": "1.2.0",
      "_model_name": "LayoutModel",
      "_view_count": null,
      "_view_module": "@jupyter-widgets/base",
      "_view_module_version": "1.2.0",
      "_view_name": "LayoutView",
      "align_content": null,
      "align_items": null,
      "align_self": null,
      "border": null,
      "bottom": null,
      "display": null,
      "flex": null,
      "flex_flow": null,
      "grid_area": null,
      "grid_auto_columns": null,
      "grid_auto_flow": null,
      "grid_auto_rows": null,
      "grid_column": null,
      "grid_gap": null,
      "grid_row": null,
      "grid_template_areas": null,
      "grid_template_columns": null,
      "grid_template_rows": null,
      "height": null,
      "justify_content": null,
      "justify_items": null,
      "left": null,
      "margin": null,
      "max_height": null,
      "max_width": null,
      "min_height": null,
      "min_width": null,
      "object_fit": null,
      "object_position": null,
      "order": null,
      "overflow": null,
      "overflow_x": null,
      "overflow_y": null,
      "padding": null,
      "right": null,
      "top": null,
      "visibility": null,
      "width": null
     }
    },
    "bad760eab5fd40ca90d8328a514d61b7": {
     "model_module": "@jupyter-widgets/base",
     "model_module_version": "1.2.0",
     "model_name": "LayoutModel",
     "state": {
      "_model_module": "@jupyter-widgets/base",
      "_model_module_version": "1.2.0",
      "_model_name": "LayoutModel",
      "_view_count": null,
      "_view_module": "@jupyter-widgets/base",
      "_view_module_version": "1.2.0",
      "_view_name": "LayoutView",
      "align_content": null,
      "align_items": null,
      "align_self": null,
      "border": null,
      "bottom": null,
      "display": null,
      "flex": null,
      "flex_flow": null,
      "grid_area": null,
      "grid_auto_columns": null,
      "grid_auto_flow": null,
      "grid_auto_rows": null,
      "grid_column": null,
      "grid_gap": null,
      "grid_row": null,
      "grid_template_areas": null,
      "grid_template_columns": null,
      "grid_template_rows": null,
      "height": null,
      "justify_content": null,
      "justify_items": null,
      "left": null,
      "margin": null,
      "max_height": null,
      "max_width": null,
      "min_height": null,
      "min_width": null,
      "object_fit": null,
      "object_position": null,
      "order": null,
      "overflow": null,
      "overflow_x": null,
      "overflow_y": null,
      "padding": null,
      "right": null,
      "top": null,
      "visibility": null,
      "width": null
     }
    },
    "bcdb64bfff964a57a8b0912dcc57dffa": {
     "model_module": "@jupyter-widgets/controls",
     "model_module_version": "1.5.0",
     "model_name": "HBoxModel",
     "state": {
      "_dom_classes": [],
      "_model_module": "@jupyter-widgets/controls",
      "_model_module_version": "1.5.0",
      "_model_name": "HBoxModel",
      "_view_count": null,
      "_view_module": "@jupyter-widgets/controls",
      "_view_module_version": "1.5.0",
      "_view_name": "HBoxView",
      "box_style": "",
      "children": [
       "IPY_MODEL_2ebb8fdb1b944253921c230eba87056d",
       "IPY_MODEL_eeceac368a53422284a2f1651fbc2a74",
       "IPY_MODEL_5f7f56932823400780d1e570ba779d42"
      ],
      "layout": "IPY_MODEL_abe6cc082a924ddb894660dfa77f48ce"
     }
    },
    "c147180d308f483bb7787eb2843b031d": {
     "model_module": "@jupyter-widgets/controls",
     "model_module_version": "1.5.0",
     "model_name": "DescriptionStyleModel",
     "state": {
      "_model_module": "@jupyter-widgets/controls",
      "_model_module_version": "1.5.0",
      "_model_name": "DescriptionStyleModel",
      "_view_count": null,
      "_view_module": "@jupyter-widgets/base",
      "_view_module_version": "1.2.0",
      "_view_name": "StyleView",
      "description_width": ""
     }
    },
    "c6c7d772580f446f89bc949d38ccff40": {
     "model_module": "@jupyter-widgets/base",
     "model_module_version": "1.2.0",
     "model_name": "LayoutModel",
     "state": {
      "_model_module": "@jupyter-widgets/base",
      "_model_module_version": "1.2.0",
      "_model_name": "LayoutModel",
      "_view_count": null,
      "_view_module": "@jupyter-widgets/base",
      "_view_module_version": "1.2.0",
      "_view_name": "LayoutView",
      "align_content": null,
      "align_items": null,
      "align_self": null,
      "border": null,
      "bottom": null,
      "display": null,
      "flex": null,
      "flex_flow": null,
      "grid_area": null,
      "grid_auto_columns": null,
      "grid_auto_flow": null,
      "grid_auto_rows": null,
      "grid_column": null,
      "grid_gap": null,
      "grid_row": null,
      "grid_template_areas": null,
      "grid_template_columns": null,
      "grid_template_rows": null,
      "height": null,
      "justify_content": null,
      "justify_items": null,
      "left": null,
      "margin": null,
      "max_height": null,
      "max_width": null,
      "min_height": null,
      "min_width": null,
      "object_fit": null,
      "object_position": null,
      "order": null,
      "overflow": null,
      "overflow_x": null,
      "overflow_y": null,
      "padding": null,
      "right": null,
      "top": null,
      "visibility": null,
      "width": null
     }
    },
    "d66446d9bc2f4331bae6ea6a4f242bf6": {
     "model_module": "@jupyter-widgets/base",
     "model_module_version": "1.2.0",
     "model_name": "LayoutModel",
     "state": {
      "_model_module": "@jupyter-widgets/base",
      "_model_module_version": "1.2.0",
      "_model_name": "LayoutModel",
      "_view_count": null,
      "_view_module": "@jupyter-widgets/base",
      "_view_module_version": "1.2.0",
      "_view_name": "LayoutView",
      "align_content": null,
      "align_items": null,
      "align_self": null,
      "border": null,
      "bottom": null,
      "display": null,
      "flex": null,
      "flex_flow": null,
      "grid_area": null,
      "grid_auto_columns": null,
      "grid_auto_flow": null,
      "grid_auto_rows": null,
      "grid_column": null,
      "grid_gap": null,
      "grid_row": null,
      "grid_template_areas": null,
      "grid_template_columns": null,
      "grid_template_rows": null,
      "height": null,
      "justify_content": null,
      "justify_items": null,
      "left": null,
      "margin": null,
      "max_height": null,
      "max_width": null,
      "min_height": null,
      "min_width": null,
      "object_fit": null,
      "object_position": null,
      "order": null,
      "overflow": null,
      "overflow_x": null,
      "overflow_y": null,
      "padding": null,
      "right": null,
      "top": null,
      "visibility": null,
      "width": null
     }
    },
    "d6a274a756ef46ebbef06195bd6f12e6": {
     "model_module": "@jupyter-widgets/base",
     "model_module_version": "1.2.0",
     "model_name": "LayoutModel",
     "state": {
      "_model_module": "@jupyter-widgets/base",
      "_model_module_version": "1.2.0",
      "_model_name": "LayoutModel",
      "_view_count": null,
      "_view_module": "@jupyter-widgets/base",
      "_view_module_version": "1.2.0",
      "_view_name": "LayoutView",
      "align_content": null,
      "align_items": null,
      "align_self": null,
      "border": null,
      "bottom": null,
      "display": null,
      "flex": null,
      "flex_flow": null,
      "grid_area": null,
      "grid_auto_columns": null,
      "grid_auto_flow": null,
      "grid_auto_rows": null,
      "grid_column": null,
      "grid_gap": null,
      "grid_row": null,
      "grid_template_areas": null,
      "grid_template_columns": null,
      "grid_template_rows": null,
      "height": null,
      "justify_content": null,
      "justify_items": null,
      "left": null,
      "margin": null,
      "max_height": null,
      "max_width": null,
      "min_height": null,
      "min_width": null,
      "object_fit": null,
      "object_position": null,
      "order": null,
      "overflow": null,
      "overflow_x": null,
      "overflow_y": null,
      "padding": null,
      "right": null,
      "top": null,
      "visibility": null,
      "width": null
     }
    },
    "d73328606714420a96f8e8b6f920eec3": {
     "model_module": "@jupyter-widgets/controls",
     "model_module_version": "1.5.0",
     "model_name": "ProgressStyleModel",
     "state": {
      "_model_module": "@jupyter-widgets/controls",
      "_model_module_version": "1.5.0",
      "_model_name": "ProgressStyleModel",
      "_view_count": null,
      "_view_module": "@jupyter-widgets/base",
      "_view_module_version": "1.2.0",
      "_view_name": "StyleView",
      "bar_color": null,
      "description_width": ""
     }
    },
    "d78fa82162d74285ac81aa28d88f2d7e": {
     "model_module": "@jupyter-widgets/controls",
     "model_module_version": "1.5.0",
     "model_name": "ProgressStyleModel",
     "state": {
      "_model_module": "@jupyter-widgets/controls",
      "_model_module_version": "1.5.0",
      "_model_name": "ProgressStyleModel",
      "_view_count": null,
      "_view_module": "@jupyter-widgets/base",
      "_view_module_version": "1.2.0",
      "_view_name": "StyleView",
      "bar_color": null,
      "description_width": ""
     }
    },
    "d9251b4d4108488880e2e0dd0e377d97": {
     "model_module": "@jupyter-widgets/controls",
     "model_module_version": "1.5.0",
     "model_name": "DescriptionStyleModel",
     "state": {
      "_model_module": "@jupyter-widgets/controls",
      "_model_module_version": "1.5.0",
      "_model_name": "DescriptionStyleModel",
      "_view_count": null,
      "_view_module": "@jupyter-widgets/base",
      "_view_module_version": "1.2.0",
      "_view_name": "StyleView",
      "description_width": ""
     }
    },
    "dadb9dbb7d234a65aff43e9a3d200811": {
     "model_module": "@jupyter-widgets/controls",
     "model_module_version": "1.5.0",
     "model_name": "HTMLModel",
     "state": {
      "_dom_classes": [],
      "_model_module": "@jupyter-widgets/controls",
      "_model_module_version": "1.5.0",
      "_model_name": "HTMLModel",
      "_view_count": null,
      "_view_module": "@jupyter-widgets/controls",
      "_view_module_version": "1.5.0",
      "_view_name": "HTMLView",
      "description": "",
      "description_tooltip": null,
      "layout": "IPY_MODEL_c6c7d772580f446f89bc949d38ccff40",
      "placeholder": "​",
      "style": "IPY_MODEL_83324b66510347538ec803304895d7e5",
      "value": "model.safetensors: 100%"
     }
    },
    "dd4fb782a741427fb6a510729ff7f871": {
     "model_module": "@jupyter-widgets/controls",
     "model_module_version": "1.5.0",
     "model_name": "DescriptionStyleModel",
     "state": {
      "_model_module": "@jupyter-widgets/controls",
      "_model_module_version": "1.5.0",
      "_model_name": "DescriptionStyleModel",
      "_view_count": null,
      "_view_module": "@jupyter-widgets/base",
      "_view_module_version": "1.2.0",
      "_view_name": "StyleView",
      "description_width": ""
     }
    },
    "dfc122d6a8c94bf89c64630aa4a76941": {
     "model_module": "@jupyter-widgets/controls",
     "model_module_version": "1.5.0",
     "model_name": "HBoxModel",
     "state": {
      "_dom_classes": [],
      "_model_module": "@jupyter-widgets/controls",
      "_model_module_version": "1.5.0",
      "_model_name": "HBoxModel",
      "_view_count": null,
      "_view_module": "@jupyter-widgets/controls",
      "_view_module_version": "1.5.0",
      "_view_name": "HBoxView",
      "box_style": "",
      "children": [
       "IPY_MODEL_a9bdf8f406c2451895de1366ca8b1733",
       "IPY_MODEL_b348ad6aec49469a944c73b3725649c4",
       "IPY_MODEL_16c8bbf543ca4612ba19005f50bf7f9c"
      ],
      "layout": "IPY_MODEL_d66446d9bc2f4331bae6ea6a4f242bf6"
     }
    },
    "e82bc2dd41754f4bb89129e4d5a13937": {
     "model_module": "@jupyter-widgets/controls",
     "model_module_version": "1.5.0",
     "model_name": "HTMLModel",
     "state": {
      "_dom_classes": [],
      "_model_module": "@jupyter-widgets/controls",
      "_model_module_version": "1.5.0",
      "_model_name": "HTMLModel",
      "_view_count": null,
      "_view_module": "@jupyter-widgets/controls",
      "_view_module_version": "1.5.0",
      "_view_name": "HTMLView",
      "description": "",
      "description_tooltip": null,
      "layout": "IPY_MODEL_3d05ff01a2344dd0a23eef15fac4746d",
      "placeholder": "​",
      "style": "IPY_MODEL_8f4113f8ac384b5281007e36b52d431f",
      "value": " 53.9M/53.9M [00:00&lt;00:00, 66.3MB/s]"
     }
    },
    "eeceac368a53422284a2f1651fbc2a74": {
     "model_module": "@jupyter-widgets/controls",
     "model_module_version": "1.5.0",
     "model_name": "FloatProgressModel",
     "state": {
      "_dom_classes": [],
      "_model_module": "@jupyter-widgets/controls",
      "_model_module_version": "1.5.0",
      "_model_name": "FloatProgressModel",
      "_view_count": null,
      "_view_module": "@jupyter-widgets/controls",
      "_view_module_version": "1.5.0",
      "_view_name": "ProgressView",
      "bar_style": "success",
      "description": "",
      "description_tooltip": null,
      "layout": "IPY_MODEL_b64d94cc88e649f8bba5f06795430374",
      "max": 112,
      "min": 0,
      "orientation": "horizontal",
      "style": "IPY_MODEL_5984ba47de9a46cd8f6bdd049271de39",
      "value": 112
     }
    },
    "f95f1e1f5d4a4e788a8fcafaedab5b57": {
     "model_module": "@jupyter-widgets/base",
     "model_module_version": "1.2.0",
     "model_name": "LayoutModel",
     "state": {
      "_model_module": "@jupyter-widgets/base",
      "_model_module_version": "1.2.0",
      "_model_name": "LayoutModel",
      "_view_count": null,
      "_view_module": "@jupyter-widgets/base",
      "_view_module_version": "1.2.0",
      "_view_name": "LayoutView",
      "align_content": null,
      "align_items": null,
      "align_self": null,
      "border": null,
      "bottom": null,
      "display": null,
      "flex": null,
      "flex_flow": null,
      "grid_area": null,
      "grid_auto_columns": null,
      "grid_auto_flow": null,
      "grid_auto_rows": null,
      "grid_column": null,
      "grid_gap": null,
      "grid_row": null,
      "grid_template_areas": null,
      "grid_template_columns": null,
      "grid_template_rows": null,
      "height": null,
      "justify_content": null,
      "justify_items": null,
      "left": null,
      "margin": null,
      "max_height": null,
      "max_width": null,
      "min_height": null,
      "min_width": null,
      "object_fit": null,
      "object_position": null,
      "order": null,
      "overflow": null,
      "overflow_x": null,
      "overflow_y": null,
      "padding": null,
      "right": null,
      "top": null,
      "visibility": null,
      "width": null
     }
    },
    "ff2b7096872d4bdd9c70dc2683cca181": {
     "model_module": "@jupyter-widgets/controls",
     "model_module_version": "1.5.0",
     "model_name": "FloatProgressModel",
     "state": {
      "_dom_classes": [],
      "_model_module": "@jupyter-widgets/controls",
      "_model_module_version": "1.5.0",
      "_model_name": "FloatProgressModel",
      "_view_count": null,
      "_view_module": "@jupyter-widgets/controls",
      "_view_module_version": "1.5.0",
      "_view_name": "ProgressView",
      "bar_style": "success",
      "description": "",
      "description_tooltip": null,
      "layout": "IPY_MODEL_6302bfc5b7eb4b509a1abbefea8bbe35",
      "max": 161,
      "min": 0,
      "orientation": "horizontal",
      "style": "IPY_MODEL_d78fa82162d74285ac81aa28d88f2d7e",
      "value": 161
     }
    }
   }
  }
 },
 "nbformat": 4,
 "nbformat_minor": 4
}
