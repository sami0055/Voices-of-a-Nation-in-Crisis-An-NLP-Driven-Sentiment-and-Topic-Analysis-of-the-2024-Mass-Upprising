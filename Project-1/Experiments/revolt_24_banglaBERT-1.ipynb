{
  "nbformat": 4,
  "nbformat_minor": 0,
  "metadata": {
    "colab": {
      "provenance": [],
      "gpuType": "T4"
    },
    "kernelspec": {
      "name": "python3",
      "display_name": "Python 3"
    },
    "language_info": {
      "name": "python"
    },
    "accelerator": "GPU",
    "widgets": {
      "application/vnd.jupyter.widget-state+json": {
        "249b0a5fa78447dbbd4e00177492f5e7": {
          "model_module": "@jupyter-widgets/controls",
          "model_name": "HBoxModel",
          "model_module_version": "1.5.0",
          "state": {
            "_dom_classes": [],
            "_model_module": "@jupyter-widgets/controls",
            "_model_module_version": "1.5.0",
            "_model_name": "HBoxModel",
            "_view_count": null,
            "_view_module": "@jupyter-widgets/controls",
            "_view_module_version": "1.5.0",
            "_view_name": "HBoxView",
            "box_style": "",
            "children": [
              "IPY_MODEL_868e41d2fd274f269261ef4aa41b55a9",
              "IPY_MODEL_0a0a1124f4b04cff912db2936c5b9422",
              "IPY_MODEL_182724713c714d12979dec8872cbf20d"
            ],
            "layout": "IPY_MODEL_d82a25cea2494ca39bd77fb245f675d4"
          }
        },
        "868e41d2fd274f269261ef4aa41b55a9": {
          "model_module": "@jupyter-widgets/controls",
          "model_name": "HTMLModel",
          "model_module_version": "1.5.0",
          "state": {
            "_dom_classes": [],
            "_model_module": "@jupyter-widgets/controls",
            "_model_module_version": "1.5.0",
            "_model_name": "HTMLModel",
            "_view_count": null,
            "_view_module": "@jupyter-widgets/controls",
            "_view_module_version": "1.5.0",
            "_view_name": "HTMLView",
            "description": "",
            "description_tooltip": null,
            "layout": "IPY_MODEL_ee8bf68fb8754292a0fa8fe27260b8f7",
            "placeholder": "​",
            "style": "IPY_MODEL_255cd3cf3cbf4da5bfe5f2fa443d0d91",
            "value": "Map: 100%"
          }
        },
        "0a0a1124f4b04cff912db2936c5b9422": {
          "model_module": "@jupyter-widgets/controls",
          "model_name": "FloatProgressModel",
          "model_module_version": "1.5.0",
          "state": {
            "_dom_classes": [],
            "_model_module": "@jupyter-widgets/controls",
            "_model_module_version": "1.5.0",
            "_model_name": "FloatProgressModel",
            "_view_count": null,
            "_view_module": "@jupyter-widgets/controls",
            "_view_module_version": "1.5.0",
            "_view_name": "ProgressView",
            "bar_style": "success",
            "description": "",
            "description_tooltip": null,
            "layout": "IPY_MODEL_5bde1ccec20a42df8500a3b2398b6838",
            "max": 1622,
            "min": 0,
            "orientation": "horizontal",
            "style": "IPY_MODEL_03a6e03019914b53ac100aa31048cf6e",
            "value": 1622
          }
        },
        "182724713c714d12979dec8872cbf20d": {
          "model_module": "@jupyter-widgets/controls",
          "model_name": "HTMLModel",
          "model_module_version": "1.5.0",
          "state": {
            "_dom_classes": [],
            "_model_module": "@jupyter-widgets/controls",
            "_model_module_version": "1.5.0",
            "_model_name": "HTMLModel",
            "_view_count": null,
            "_view_module": "@jupyter-widgets/controls",
            "_view_module_version": "1.5.0",
            "_view_name": "HTMLView",
            "description": "",
            "description_tooltip": null,
            "layout": "IPY_MODEL_6b5776618c174fe4b6e3a8737d75041e",
            "placeholder": "​",
            "style": "IPY_MODEL_1b9a55aed35e4c3b9f760748853a58b4",
            "value": " 1622/1622 [00:02&lt;00:00, 652.51 examples/s]"
          }
        },
        "d82a25cea2494ca39bd77fb245f675d4": {
          "model_module": "@jupyter-widgets/base",
          "model_name": "LayoutModel",
          "model_module_version": "1.2.0",
          "state": {
            "_model_module": "@jupyter-widgets/base",
            "_model_module_version": "1.2.0",
            "_model_name": "LayoutModel",
            "_view_count": null,
            "_view_module": "@jupyter-widgets/base",
            "_view_module_version": "1.2.0",
            "_view_name": "LayoutView",
            "align_content": null,
            "align_items": null,
            "align_self": null,
            "border": null,
            "bottom": null,
            "display": null,
            "flex": null,
            "flex_flow": null,
            "grid_area": null,
            "grid_auto_columns": null,
            "grid_auto_flow": null,
            "grid_auto_rows": null,
            "grid_column": null,
            "grid_gap": null,
            "grid_row": null,
            "grid_template_areas": null,
            "grid_template_columns": null,
            "grid_template_rows": null,
            "height": null,
            "justify_content": null,
            "justify_items": null,
            "left": null,
            "margin": null,
            "max_height": null,
            "max_width": null,
            "min_height": null,
            "min_width": null,
            "object_fit": null,
            "object_position": null,
            "order": null,
            "overflow": null,
            "overflow_x": null,
            "overflow_y": null,
            "padding": null,
            "right": null,
            "top": null,
            "visibility": null,
            "width": null
          }
        },
        "ee8bf68fb8754292a0fa8fe27260b8f7": {
          "model_module": "@jupyter-widgets/base",
          "model_name": "LayoutModel",
          "model_module_version": "1.2.0",
          "state": {
            "_model_module": "@jupyter-widgets/base",
            "_model_module_version": "1.2.0",
            "_model_name": "LayoutModel",
            "_view_count": null,
            "_view_module": "@jupyter-widgets/base",
            "_view_module_version": "1.2.0",
            "_view_name": "LayoutView",
            "align_content": null,
            "align_items": null,
            "align_self": null,
            "border": null,
            "bottom": null,
            "display": null,
            "flex": null,
            "flex_flow": null,
            "grid_area": null,
            "grid_auto_columns": null,
            "grid_auto_flow": null,
            "grid_auto_rows": null,
            "grid_column": null,
            "grid_gap": null,
            "grid_row": null,
            "grid_template_areas": null,
            "grid_template_columns": null,
            "grid_template_rows": null,
            "height": null,
            "justify_content": null,
            "justify_items": null,
            "left": null,
            "margin": null,
            "max_height": null,
            "max_width": null,
            "min_height": null,
            "min_width": null,
            "object_fit": null,
            "object_position": null,
            "order": null,
            "overflow": null,
            "overflow_x": null,
            "overflow_y": null,
            "padding": null,
            "right": null,
            "top": null,
            "visibility": null,
            "width": null
          }
        },
        "255cd3cf3cbf4da5bfe5f2fa443d0d91": {
          "model_module": "@jupyter-widgets/controls",
          "model_name": "DescriptionStyleModel",
          "model_module_version": "1.5.0",
          "state": {
            "_model_module": "@jupyter-widgets/controls",
            "_model_module_version": "1.5.0",
            "_model_name": "DescriptionStyleModel",
            "_view_count": null,
            "_view_module": "@jupyter-widgets/base",
            "_view_module_version": "1.2.0",
            "_view_name": "StyleView",
            "description_width": ""
          }
        },
        "5bde1ccec20a42df8500a3b2398b6838": {
          "model_module": "@jupyter-widgets/base",
          "model_name": "LayoutModel",
          "model_module_version": "1.2.0",
          "state": {
            "_model_module": "@jupyter-widgets/base",
            "_model_module_version": "1.2.0",
            "_model_name": "LayoutModel",
            "_view_count": null,
            "_view_module": "@jupyter-widgets/base",
            "_view_module_version": "1.2.0",
            "_view_name": "LayoutView",
            "align_content": null,
            "align_items": null,
            "align_self": null,
            "border": null,
            "bottom": null,
            "display": null,
            "flex": null,
            "flex_flow": null,
            "grid_area": null,
            "grid_auto_columns": null,
            "grid_auto_flow": null,
            "grid_auto_rows": null,
            "grid_column": null,
            "grid_gap": null,
            "grid_row": null,
            "grid_template_areas": null,
            "grid_template_columns": null,
            "grid_template_rows": null,
            "height": null,
            "justify_content": null,
            "justify_items": null,
            "left": null,
            "margin": null,
            "max_height": null,
            "max_width": null,
            "min_height": null,
            "min_width": null,
            "object_fit": null,
            "object_position": null,
            "order": null,
            "overflow": null,
            "overflow_x": null,
            "overflow_y": null,
            "padding": null,
            "right": null,
            "top": null,
            "visibility": null,
            "width": null
          }
        },
        "03a6e03019914b53ac100aa31048cf6e": {
          "model_module": "@jupyter-widgets/controls",
          "model_name": "ProgressStyleModel",
          "model_module_version": "1.5.0",
          "state": {
            "_model_module": "@jupyter-widgets/controls",
            "_model_module_version": "1.5.0",
            "_model_name": "ProgressStyleModel",
            "_view_count": null,
            "_view_module": "@jupyter-widgets/base",
            "_view_module_version": "1.2.0",
            "_view_name": "StyleView",
            "bar_color": null,
            "description_width": ""
          }
        },
        "6b5776618c174fe4b6e3a8737d75041e": {
          "model_module": "@jupyter-widgets/base",
          "model_name": "LayoutModel",
          "model_module_version": "1.2.0",
          "state": {
            "_model_module": "@jupyter-widgets/base",
            "_model_module_version": "1.2.0",
            "_model_name": "LayoutModel",
            "_view_count": null,
            "_view_module": "@jupyter-widgets/base",
            "_view_module_version": "1.2.0",
            "_view_name": "LayoutView",
            "align_content": null,
            "align_items": null,
            "align_self": null,
            "border": null,
            "bottom": null,
            "display": null,
            "flex": null,
            "flex_flow": null,
            "grid_area": null,
            "grid_auto_columns": null,
            "grid_auto_flow": null,
            "grid_auto_rows": null,
            "grid_column": null,
            "grid_gap": null,
            "grid_row": null,
            "grid_template_areas": null,
            "grid_template_columns": null,
            "grid_template_rows": null,
            "height": null,
            "justify_content": null,
            "justify_items": null,
            "left": null,
            "margin": null,
            "max_height": null,
            "max_width": null,
            "min_height": null,
            "min_width": null,
            "object_fit": null,
            "object_position": null,
            "order": null,
            "overflow": null,
            "overflow_x": null,
            "overflow_y": null,
            "padding": null,
            "right": null,
            "top": null,
            "visibility": null,
            "width": null
          }
        },
        "1b9a55aed35e4c3b9f760748853a58b4": {
          "model_module": "@jupyter-widgets/controls",
          "model_name": "DescriptionStyleModel",
          "model_module_version": "1.5.0",
          "state": {
            "_model_module": "@jupyter-widgets/controls",
            "_model_module_version": "1.5.0",
            "_model_name": "DescriptionStyleModel",
            "_view_count": null,
            "_view_module": "@jupyter-widgets/base",
            "_view_module_version": "1.2.0",
            "_view_name": "StyleView",
            "description_width": ""
          }
        },
        "0d125366602e4048b268aac6e2cb7617": {
          "model_module": "@jupyter-widgets/controls",
          "model_name": "HBoxModel",
          "model_module_version": "1.5.0",
          "state": {
            "_dom_classes": [],
            "_model_module": "@jupyter-widgets/controls",
            "_model_module_version": "1.5.0",
            "_model_name": "HBoxModel",
            "_view_count": null,
            "_view_module": "@jupyter-widgets/controls",
            "_view_module_version": "1.5.0",
            "_view_name": "HBoxView",
            "box_style": "",
            "children": [
              "IPY_MODEL_91b3a7e8a822405fa729539aaac7925b",
              "IPY_MODEL_ead69e8ad6bd42819eb4cf8f0921c6ee",
              "IPY_MODEL_dfdebd2fbc614b178938755889e11c24"
            ],
            "layout": "IPY_MODEL_823a4007933f4bd085a47e2b9eca6db4"
          }
        },
        "91b3a7e8a822405fa729539aaac7925b": {
          "model_module": "@jupyter-widgets/controls",
          "model_name": "HTMLModel",
          "model_module_version": "1.5.0",
          "state": {
            "_dom_classes": [],
            "_model_module": "@jupyter-widgets/controls",
            "_model_module_version": "1.5.0",
            "_model_name": "HTMLModel",
            "_view_count": null,
            "_view_module": "@jupyter-widgets/controls",
            "_view_module_version": "1.5.0",
            "_view_name": "HTMLView",
            "description": "",
            "description_tooltip": null,
            "layout": "IPY_MODEL_a8d4b33c71f445a696f02058de2e09e1",
            "placeholder": "​",
            "style": "IPY_MODEL_9411c6a8158d4f63a851956859712a1e",
            "value": "Map: 100%"
          }
        },
        "ead69e8ad6bd42819eb4cf8f0921c6ee": {
          "model_module": "@jupyter-widgets/controls",
          "model_name": "FloatProgressModel",
          "model_module_version": "1.5.0",
          "state": {
            "_dom_classes": [],
            "_model_module": "@jupyter-widgets/controls",
            "_model_module_version": "1.5.0",
            "_model_name": "FloatProgressModel",
            "_view_count": null,
            "_view_module": "@jupyter-widgets/controls",
            "_view_module_version": "1.5.0",
            "_view_name": "ProgressView",
            "bar_style": "success",
            "description": "",
            "description_tooltip": null,
            "layout": "IPY_MODEL_17f57c8f0a8c42029919fe4413e35f82",
            "max": 406,
            "min": 0,
            "orientation": "horizontal",
            "style": "IPY_MODEL_939296967c5e4d899534fc04a533462b",
            "value": 406
          }
        },
        "dfdebd2fbc614b178938755889e11c24": {
          "model_module": "@jupyter-widgets/controls",
          "model_name": "HTMLModel",
          "model_module_version": "1.5.0",
          "state": {
            "_dom_classes": [],
            "_model_module": "@jupyter-widgets/controls",
            "_model_module_version": "1.5.0",
            "_model_name": "HTMLModel",
            "_view_count": null,
            "_view_module": "@jupyter-widgets/controls",
            "_view_module_version": "1.5.0",
            "_view_name": "HTMLView",
            "description": "",
            "description_tooltip": null,
            "layout": "IPY_MODEL_7809285375d042a49243d8f45d698a6e",
            "placeholder": "​",
            "style": "IPY_MODEL_3f1ded3886274a888772c7b14f8f34c5",
            "value": " 406/406 [00:00&lt;00:00, 593.78 examples/s]"
          }
        },
        "823a4007933f4bd085a47e2b9eca6db4": {
          "model_module": "@jupyter-widgets/base",
          "model_name": "LayoutModel",
          "model_module_version": "1.2.0",
          "state": {
            "_model_module": "@jupyter-widgets/base",
            "_model_module_version": "1.2.0",
            "_model_name": "LayoutModel",
            "_view_count": null,
            "_view_module": "@jupyter-widgets/base",
            "_view_module_version": "1.2.0",
            "_view_name": "LayoutView",
            "align_content": null,
            "align_items": null,
            "align_self": null,
            "border": null,
            "bottom": null,
            "display": null,
            "flex": null,
            "flex_flow": null,
            "grid_area": null,
            "grid_auto_columns": null,
            "grid_auto_flow": null,
            "grid_auto_rows": null,
            "grid_column": null,
            "grid_gap": null,
            "grid_row": null,
            "grid_template_areas": null,
            "grid_template_columns": null,
            "grid_template_rows": null,
            "height": null,
            "justify_content": null,
            "justify_items": null,
            "left": null,
            "margin": null,
            "max_height": null,
            "max_width": null,
            "min_height": null,
            "min_width": null,
            "object_fit": null,
            "object_position": null,
            "order": null,
            "overflow": null,
            "overflow_x": null,
            "overflow_y": null,
            "padding": null,
            "right": null,
            "top": null,
            "visibility": null,
            "width": null
          }
        },
        "a8d4b33c71f445a696f02058de2e09e1": {
          "model_module": "@jupyter-widgets/base",
          "model_name": "LayoutModel",
          "model_module_version": "1.2.0",
          "state": {
            "_model_module": "@jupyter-widgets/base",
            "_model_module_version": "1.2.0",
            "_model_name": "LayoutModel",
            "_view_count": null,
            "_view_module": "@jupyter-widgets/base",
            "_view_module_version": "1.2.0",
            "_view_name": "LayoutView",
            "align_content": null,
            "align_items": null,
            "align_self": null,
            "border": null,
            "bottom": null,
            "display": null,
            "flex": null,
            "flex_flow": null,
            "grid_area": null,
            "grid_auto_columns": null,
            "grid_auto_flow": null,
            "grid_auto_rows": null,
            "grid_column": null,
            "grid_gap": null,
            "grid_row": null,
            "grid_template_areas": null,
            "grid_template_columns": null,
            "grid_template_rows": null,
            "height": null,
            "justify_content": null,
            "justify_items": null,
            "left": null,
            "margin": null,
            "max_height": null,
            "max_width": null,
            "min_height": null,
            "min_width": null,
            "object_fit": null,
            "object_position": null,
            "order": null,
            "overflow": null,
            "overflow_x": null,
            "overflow_y": null,
            "padding": null,
            "right": null,
            "top": null,
            "visibility": null,
            "width": null
          }
        },
        "9411c6a8158d4f63a851956859712a1e": {
          "model_module": "@jupyter-widgets/controls",
          "model_name": "DescriptionStyleModel",
          "model_module_version": "1.5.0",
          "state": {
            "_model_module": "@jupyter-widgets/controls",
            "_model_module_version": "1.5.0",
            "_model_name": "DescriptionStyleModel",
            "_view_count": null,
            "_view_module": "@jupyter-widgets/base",
            "_view_module_version": "1.2.0",
            "_view_name": "StyleView",
            "description_width": ""
          }
        },
        "17f57c8f0a8c42029919fe4413e35f82": {
          "model_module": "@jupyter-widgets/base",
          "model_name": "LayoutModel",
          "model_module_version": "1.2.0",
          "state": {
            "_model_module": "@jupyter-widgets/base",
            "_model_module_version": "1.2.0",
            "_model_name": "LayoutModel",
            "_view_count": null,
            "_view_module": "@jupyter-widgets/base",
            "_view_module_version": "1.2.0",
            "_view_name": "LayoutView",
            "align_content": null,
            "align_items": null,
            "align_self": null,
            "border": null,
            "bottom": null,
            "display": null,
            "flex": null,
            "flex_flow": null,
            "grid_area": null,
            "grid_auto_columns": null,
            "grid_auto_flow": null,
            "grid_auto_rows": null,
            "grid_column": null,
            "grid_gap": null,
            "grid_row": null,
            "grid_template_areas": null,
            "grid_template_columns": null,
            "grid_template_rows": null,
            "height": null,
            "justify_content": null,
            "justify_items": null,
            "left": null,
            "margin": null,
            "max_height": null,
            "max_width": null,
            "min_height": null,
            "min_width": null,
            "object_fit": null,
            "object_position": null,
            "order": null,
            "overflow": null,
            "overflow_x": null,
            "overflow_y": null,
            "padding": null,
            "right": null,
            "top": null,
            "visibility": null,
            "width": null
          }
        },
        "939296967c5e4d899534fc04a533462b": {
          "model_module": "@jupyter-widgets/controls",
          "model_name": "ProgressStyleModel",
          "model_module_version": "1.5.0",
          "state": {
            "_model_module": "@jupyter-widgets/controls",
            "_model_module_version": "1.5.0",
            "_model_name": "ProgressStyleModel",
            "_view_count": null,
            "_view_module": "@jupyter-widgets/base",
            "_view_module_version": "1.2.0",
            "_view_name": "StyleView",
            "bar_color": null,
            "description_width": ""
          }
        },
        "7809285375d042a49243d8f45d698a6e": {
          "model_module": "@jupyter-widgets/base",
          "model_name": "LayoutModel",
          "model_module_version": "1.2.0",
          "state": {
            "_model_module": "@jupyter-widgets/base",
            "_model_module_version": "1.2.0",
            "_model_name": "LayoutModel",
            "_view_count": null,
            "_view_module": "@jupyter-widgets/base",
            "_view_module_version": "1.2.0",
            "_view_name": "LayoutView",
            "align_content": null,
            "align_items": null,
            "align_self": null,
            "border": null,
            "bottom": null,
            "display": null,
            "flex": null,
            "flex_flow": null,
            "grid_area": null,
            "grid_auto_columns": null,
            "grid_auto_flow": null,
            "grid_auto_rows": null,
            "grid_column": null,
            "grid_gap": null,
            "grid_row": null,
            "grid_template_areas": null,
            "grid_template_columns": null,
            "grid_template_rows": null,
            "height": null,
            "justify_content": null,
            "justify_items": null,
            "left": null,
            "margin": null,
            "max_height": null,
            "max_width": null,
            "min_height": null,
            "min_width": null,
            "object_fit": null,
            "object_position": null,
            "order": null,
            "overflow": null,
            "overflow_x": null,
            "overflow_y": null,
            "padding": null,
            "right": null,
            "top": null,
            "visibility": null,
            "width": null
          }
        },
        "3f1ded3886274a888772c7b14f8f34c5": {
          "model_module": "@jupyter-widgets/controls",
          "model_name": "DescriptionStyleModel",
          "model_module_version": "1.5.0",
          "state": {
            "_model_module": "@jupyter-widgets/controls",
            "_model_module_version": "1.5.0",
            "_model_name": "DescriptionStyleModel",
            "_view_count": null,
            "_view_module": "@jupyter-widgets/base",
            "_view_module_version": "1.2.0",
            "_view_name": "StyleView",
            "description_width": ""
          }
        }
      }
    }
  },
  "cells": [
    {
      "cell_type": "code",
      "execution_count": 1,
      "metadata": {
        "colab": {
          "base_uri": "https://localhost:8080/"
        },
        "id": "JLHmKcNXkBrP",
        "outputId": "8c0d294c-a8ef-4b95-b4db-6f4f99d4b66b"
      },
      "outputs": [
        {
          "output_type": "stream",
          "name": "stdout",
          "text": [
            "Requirement already satisfied: transformers in /usr/local/lib/python3.10/dist-packages (4.47.1)\n",
            "Requirement already satisfied: datasets in /usr/local/lib/python3.10/dist-packages (3.2.0)\n",
            "Requirement already satisfied: pandas in /usr/local/lib/python3.10/dist-packages (2.2.2)\n",
            "Requirement already satisfied: torch in /usr/local/lib/python3.10/dist-packages (2.5.1+cu121)\n",
            "Requirement already satisfied: openpyxl in /usr/local/lib/python3.10/dist-packages (3.1.5)\n",
            "Requirement already satisfied: filelock in /usr/local/lib/python3.10/dist-packages (from transformers) (3.16.1)\n",
            "Requirement already satisfied: huggingface-hub<1.0,>=0.24.0 in /usr/local/lib/python3.10/dist-packages (from transformers) (0.27.0)\n",
            "Requirement already satisfied: numpy>=1.17 in /usr/local/lib/python3.10/dist-packages (from transformers) (1.26.4)\n",
            "Requirement already satisfied: packaging>=20.0 in /usr/local/lib/python3.10/dist-packages (from transformers) (24.2)\n",
            "Requirement already satisfied: pyyaml>=5.1 in /usr/local/lib/python3.10/dist-packages (from transformers) (6.0.2)\n",
            "Requirement already satisfied: regex!=2019.12.17 in /usr/local/lib/python3.10/dist-packages (from transformers) (2024.11.6)\n",
            "Requirement already satisfied: requests in /usr/local/lib/python3.10/dist-packages (from transformers) (2.32.3)\n",
            "Requirement already satisfied: tokenizers<0.22,>=0.21 in /usr/local/lib/python3.10/dist-packages (from transformers) (0.21.0)\n",
            "Requirement already satisfied: safetensors>=0.4.1 in /usr/local/lib/python3.10/dist-packages (from transformers) (0.4.5)\n",
            "Requirement already satisfied: tqdm>=4.27 in /usr/local/lib/python3.10/dist-packages (from transformers) (4.67.1)\n",
            "Requirement already satisfied: pyarrow>=15.0.0 in /usr/local/lib/python3.10/dist-packages (from datasets) (17.0.0)\n",
            "Requirement already satisfied: dill<0.3.9,>=0.3.0 in /usr/local/lib/python3.10/dist-packages (from datasets) (0.3.8)\n",
            "Requirement already satisfied: xxhash in /usr/local/lib/python3.10/dist-packages (from datasets) (3.5.0)\n",
            "Requirement already satisfied: multiprocess<0.70.17 in /usr/local/lib/python3.10/dist-packages (from datasets) (0.70.16)\n",
            "Requirement already satisfied: fsspec<=2024.9.0,>=2023.1.0 in /usr/local/lib/python3.10/dist-packages (from fsspec[http]<=2024.9.0,>=2023.1.0->datasets) (2024.9.0)\n",
            "Requirement already satisfied: aiohttp in /usr/local/lib/python3.10/dist-packages (from datasets) (3.11.10)\n",
            "Requirement already satisfied: python-dateutil>=2.8.2 in /usr/local/lib/python3.10/dist-packages (from pandas) (2.8.2)\n",
            "Requirement already satisfied: pytz>=2020.1 in /usr/local/lib/python3.10/dist-packages (from pandas) (2024.2)\n",
            "Requirement already satisfied: tzdata>=2022.7 in /usr/local/lib/python3.10/dist-packages (from pandas) (2024.2)\n",
            "Requirement already satisfied: typing-extensions>=4.8.0 in /usr/local/lib/python3.10/dist-packages (from torch) (4.12.2)\n",
            "Requirement already satisfied: networkx in /usr/local/lib/python3.10/dist-packages (from torch) (3.4.2)\n",
            "Requirement already satisfied: jinja2 in /usr/local/lib/python3.10/dist-packages (from torch) (3.1.4)\n",
            "Requirement already satisfied: sympy==1.13.1 in /usr/local/lib/python3.10/dist-packages (from torch) (1.13.1)\n",
            "Requirement already satisfied: mpmath<1.4,>=1.1.0 in /usr/local/lib/python3.10/dist-packages (from sympy==1.13.1->torch) (1.3.0)\n",
            "Requirement already satisfied: et-xmlfile in /usr/local/lib/python3.10/dist-packages (from openpyxl) (2.0.0)\n",
            "Requirement already satisfied: aiohappyeyeballs>=2.3.0 in /usr/local/lib/python3.10/dist-packages (from aiohttp->datasets) (2.4.4)\n",
            "Requirement already satisfied: aiosignal>=1.1.2 in /usr/local/lib/python3.10/dist-packages (from aiohttp->datasets) (1.3.2)\n",
            "Requirement already satisfied: async-timeout<6.0,>=4.0 in /usr/local/lib/python3.10/dist-packages (from aiohttp->datasets) (4.0.3)\n",
            "Requirement already satisfied: attrs>=17.3.0 in /usr/local/lib/python3.10/dist-packages (from aiohttp->datasets) (24.3.0)\n",
            "Requirement already satisfied: frozenlist>=1.1.1 in /usr/local/lib/python3.10/dist-packages (from aiohttp->datasets) (1.5.0)\n",
            "Requirement already satisfied: multidict<7.0,>=4.5 in /usr/local/lib/python3.10/dist-packages (from aiohttp->datasets) (6.1.0)\n",
            "Requirement already satisfied: propcache>=0.2.0 in /usr/local/lib/python3.10/dist-packages (from aiohttp->datasets) (0.2.1)\n",
            "Requirement already satisfied: yarl<2.0,>=1.17.0 in /usr/local/lib/python3.10/dist-packages (from aiohttp->datasets) (1.18.3)\n",
            "Requirement already satisfied: six>=1.5 in /usr/local/lib/python3.10/dist-packages (from python-dateutil>=2.8.2->pandas) (1.17.0)\n",
            "Requirement already satisfied: charset-normalizer<4,>=2 in /usr/local/lib/python3.10/dist-packages (from requests->transformers) (3.4.0)\n",
            "Requirement already satisfied: idna<4,>=2.5 in /usr/local/lib/python3.10/dist-packages (from requests->transformers) (3.10)\n",
            "Requirement already satisfied: urllib3<3,>=1.21.1 in /usr/local/lib/python3.10/dist-packages (from requests->transformers) (2.2.3)\n",
            "Requirement already satisfied: certifi>=2017.4.17 in /usr/local/lib/python3.10/dist-packages (from requests->transformers) (2024.12.14)\n",
            "Requirement already satisfied: MarkupSafe>=2.0 in /usr/local/lib/python3.10/dist-packages (from jinja2->torch) (3.0.2)\n"
          ]
        }
      ],
      "source": [
        "!pip install transformers datasets pandas torch openpyxl"
      ]
    },
    {
      "cell_type": "code",
      "source": [
        "import pandas as pd\n",
        "import torch\n",
        "from sklearn.model_selection import train_test_split\n",
        "from transformers import AutoModelForSequenceClassification, AutoTokenizer, Trainer, TrainingArguments\n",
        "from datasets import Dataset\n",
        "import numpy as np\n",
        "import wandb"
      ],
      "metadata": {
        "id": "ZoQRAgu9kPFn"
      },
      "execution_count": 2,
      "outputs": []
    },
    {
      "cell_type": "code",
      "source": [
        "# Load the dataset\n",
        "df = pd.read_excel(\"dataset_rv.xlsx\")\n",
        "\n",
        "# Map string labels to numerical labels\n",
        "label_map = {\"outrage\": 0, \"despair\": 1, \"hope\": 2}\n",
        "df[\"Sentiment\"] = df[\"Sentiment\"].map(label_map)\n",
        "\n",
        "# Rename the column to text\n",
        "df.rename(columns={'Headline':'text', 'Sentiment':'labels'}, inplace=True)"
      ],
      "metadata": {
        "id": "XFroQSmHkUIF"
      },
      "execution_count": 3,
      "outputs": []
    },
    {
      "cell_type": "code",
      "source": [
        "def english_to_bangla_number_text(number):\n",
        "    \"\"\"Converts an English number to Bangla textual representation.\"\"\"\n",
        "    bangla_numbers = {\n",
        "        0: \"শূন্য\", 1: \"এক\", 2: \"দুই\", 3: \"তিন\", 4: \"চার\",\n",
        "        5: \"পাঁচ\", 6: \"ছয়\", 7: \"সাত\", 8: \"আট\", 9: \"নয়\",\n",
        "        10: \"দশ\", 11: \"এগারো\", 12: \"বারো\", 13: \"তেরো\", 14: \"চৌদ্দ\",\n",
        "        15: \"পনেরো\", 16: \"ষোলো\", 17: \"সতেরো\", 18: \"আঠারো\", 19: \"উনিশ\",\n",
        "        20: \"বিশ\", 21: \"একুশ\", 22: \"বাইশ\", 23: \"তেইশ\", 24: \"চব্বিশ\",\n",
        "        25: \"পঁচিশ\", 26: \"ছাব্বিশ\", 27: \"সাতাশ\", 28: \"আটাশ\", 29: \"ঊনত্রিশ\",\n",
        "        30: \"ত্রিশ\", 31: \"একত্রিশ\", 32: \"বত্রিশ\", 33: \"তেত্রিশ\", 34: \"চৌত্রিশ\",\n",
        "        35: \"পঁত্রিশ\", 36: \"ছত্রিশ\", 37: \"সাঁইত্রিশ\", 38: \"আটত্রিশ\", 39: \"ঊনচল্লিশ\",\n",
        "        40: \"চল্লিশ\", 41: \"একচল্লিশ\", 42: \"বিয়াল্লিশ\", 43: \"তেতাল্লিশ\", 44: \"চুয়াল্লিশ\",\n",
        "        45: \"পঁইয়াল্লিশ\", 46: \"ছিয়াল্লিশ\", 47: \"সাতচল্লিশ\", 48: \"আটচল্লিশ\", 49: \"ঊনপঞ্চাশ\",\n",
        "        50: \"পঞ্চাশ\", 51: \"একান্ন\", 52: \"বাহান্ন\", 53: \"তিপ্পান্ন\", 54: \"চুয়ান্ন\",\n",
        "        55: \"পঞ্চান্ন\", 56: \"ছাপ্পান্ন\", 57: \"সাতান্ন\", 58: \"আটান্ন\", 59: \"ঊনষাট\",\n",
        "        60: \"ষাট\", 61: \"একষট্টি\", 62: \"বাষট্টি\", 63: \"তেষট্টি\", 64: \"চৌষট্টি\",\n",
        "        65: \"পঁষট্টি\", 66: \"ছেষট্টি\", 67: \"সাতষট্টি\", 68: \"আটষট্টি\", 69: \"ঊনসত্তর\",\n",
        "        70: \"সত্তর\", 71: \"একাত্তর\", 72: \"বাহাত্তর\", 73: \"তিয়াত্তর\", 74: \"চুয়াত্তর\",\n",
        "        75: \"পঁচাত্তর\", 76: \"ছিয়াত্তর\", 77: \"সাতাত্তর\", 78: \"আটাত্তর\", 79: \"ঊনআশি\",\n",
        "        80: \"আশি\", 81: \"একাশি\", 82: \"বিরাশি\", 83: \"তিরাশি\", 84: \"চুরাশি\",\n",
        "        85: \"পঁচাশি\", 86: \"ছিয়াশি\", 87: \"সাতাশি\", 88: \"আটাশি\", 89: \"ঊননব্বই\",\n",
        "        90: \"নব্বই\", 91: \"একানব্বই\", 92: \"বিরানব্বই\", 93: \"তিরানব্বই\", 94: \"চুরানব্বই\",\n",
        "        95: \"পঁচানব্বই\", 96: \"ছিয়ানব্বই\", 97: \"সাতানব্বই\", 98: \"আটানব্বই\", 99: \"নিরানব্বই\",\n",
        "    }\n",
        "\n",
        "    def convert_two_digit_number(n):\n",
        "        \"\"\"Handles numbers from 0 to 99 based on direct mapping.\"\"\"\n",
        "        if n in bangla_numbers:\n",
        "            return bangla_numbers[n]\n",
        "        tens = (n // 10) * 10\n",
        "        units = n % 10\n",
        "        return f\"{bangla_numbers[tens]} {bangla_numbers[units]}\" if units > 0 else bangla_numbers[tens]\n",
        "\n",
        "    if number < 100:\n",
        "        return convert_two_digit_number(number)\n",
        "    elif number < 1000:\n",
        "        hundreds = number // 100\n",
        "        remainder = number % 100\n",
        "        if remainder == 0:\n",
        "            return f\"{bangla_numbers[hundreds]} শত\"\n",
        "        return f\"{bangla_numbers[hundreds]} শত {convert_two_digit_number(remainder)}\"\n",
        "    elif number < 100000: #Handle numbers from 1000 to 99,999\n",
        "        parts = []\n",
        "        if number >= 1000:\n",
        "            parts.append(f\"{english_to_bangla_number_text(number // 1000)} হাজার\")\n",
        "            number %= 1000\n",
        "        if number > 0:\n",
        "            if number >= 100:\n",
        "              parts.append(english_to_bangla_number_text(number))\n",
        "            else:\n",
        "              parts.append(convert_two_digit_number(number))  #handles cases less than 100\n",
        "        return \" \".join(parts)\n",
        "    elif number < 10000000: #handles numbers from 100,000 to 9,999,999\n",
        "      parts = []\n",
        "      if number >= 100000:\n",
        "          parts.append(f\"{english_to_bangla_number_text(number // 100000)} লক্ষ\")\n",
        "          number %= 100000\n",
        "      if number > 0:\n",
        "          if number >= 1000:\n",
        "            parts.append(english_to_bangla_number_text(number))\n",
        "          elif number > 0:\n",
        "            if number >= 100:\n",
        "                parts.append(english_to_bangla_number_text(number))\n",
        "            else:\n",
        "              parts.append(convert_two_digit_number(number)) #handle numbers less than 100\n",
        "      return \" \".join(parts)\n",
        "    else: # Handle numbers >= 10,000,000 (Crore)\n",
        "        parts = []\n",
        "        if number >= 10000000:\n",
        "            parts.append(f\"{english_to_bangla_number_text(number // 10000000)} কোটি\")\n",
        "            number %= 10000000\n",
        "        if number > 0:\n",
        "            parts.append(english_to_bangla_number_text(number))\n",
        "        return \" \".join(parts)"
      ],
      "metadata": {
        "id": "hR1FjboBkrwl"
      },
      "execution_count": 4,
      "outputs": []
    },
    {
      "cell_type": "code",
      "source": [
        "import re\n",
        "\n",
        "def text_to_word_list(text):\n",
        "    text = text.split()\n",
        "    return text\n",
        "\n",
        "def replace_strings(text):\n",
        "    emoji_pattern = re.compile(\"[\"\n",
        "                               u\"\\U0001F600-\\U0001F64F\"  # emoticons\n",
        "                               u\"\\U0001F300-\\U0001F5FF\"  # symbols & pictographs\n",
        "                               u\"\\U0001F680-\\U0001F6FF\"  # transport & map symbols\n",
        "                               u\"\\U0001F1E0-\\U0001F1FF\"  # flags (iOS)\n",
        "                               u\"\\u2600-\\u26FF\"          # miscellaneous symbols\n",
        "                               u\"\\u2700-\\u27BF\"          # dingbats\n",
        "                               u\"\\u2000-\\u206F\"          # general punctuations\n",
        "                               \"]+\", flags=re.UNICODE)\n",
        "    english_pattern = re.compile('[a-zA-Z]+', flags=re.I)\n",
        "\n",
        "    text = emoji_pattern.sub(r'', text)\n",
        "    text = english_pattern.sub(r'', text)\n",
        "\n",
        "    return text\n",
        "\n",
        "def remove_punctuations(my_str):\n",
        "    punctuations = '''```\u0012\u0010\u0002\b`\u0007\b£|¢|\u0007Ñ+-*/=EROero৳০১২৩৪৫৬৭৮৯012–34567•89।!()-[]{};:'\"“\\’,<>./?@#$%^&*_~‘—॥”‰🤣⚽️✌�￰৷￰'''\n",
        "    no_punct = \"\"\n",
        "    for char in my_str:\n",
        "        if char not in punctuations:\n",
        "            no_punct += char\n",
        "\n",
        "    return no_punct\n",
        "\n",
        "def convert_numbers_to_bangla(text):\n",
        "    words = text.split()\n",
        "    converted_words = []\n",
        "    for word in words:\n",
        "        if word.isdigit():  # Check if the word is an integer\n",
        "            bangla_number = english_to_bangla_number_text(int(word))\n",
        "            converted_words.append(bangla_number)\n",
        "        else:\n",
        "            converted_words.append(word)\n",
        "    return ' '.join(converted_words)\n",
        "\n",
        "def preprocessing(text):\n",
        "    text = replace_strings(text)\n",
        "    text = convert_numbers_to_bangla(text)  # Convert numbers to Bangla\n",
        "    text = remove_punctuations(text)\n",
        "    return text"
      ],
      "metadata": {
        "id": "7-juQ3e2k6KO"
      },
      "execution_count": 5,
      "outputs": []
    },
    {
      "cell_type": "code",
      "source": [
        "df['text'] =df['text'].apply(lambda x: preprocessing(str(x)))\n",
        "df.head()"
      ],
      "metadata": {
        "colab": {
          "base_uri": "https://localhost:8080/",
          "height": 206
        },
        "id": "Hko-pLszk_Sl",
        "outputId": "a45a8756-6ac8-4da5-8afb-519f768799e8"
      },
      "execution_count": 6,
      "outputs": [
        {
          "output_type": "execute_result",
          "data": {
            "text/plain": [
              "                                                text  labels\n",
              "0  ঢাকা বিশ্ববিদ্যালয় কোটাবিরোধী আন্দোলনের নেতাকে...       0\n",
              "1  কোটাবিরোধী আন্দোলনে ঢাকা বিশ্ববিদ্যালয়ের বিএনপ...       2\n",
              "2  কোটাবিরোধী আন্দোলন  আজও জিরো পয়েন্ট অবরোধ করে ...       0\n",
              "3  সর্বজনীন পেনশন সরকার অনড় আন্দোলন চালিয়ে যাবেন ...       0\n",
              "4  আজ শনিবার সকাল সাড়ে টার দিকে মহাসড়কের শহর বাইপ...       0"
            ],
            "text/html": [
              "\n",
              "  <div id=\"df-2066bf42-d1c0-4af4-bb6a-dfc23825889b\" class=\"colab-df-container\">\n",
              "    <div>\n",
              "<style scoped>\n",
              "    .dataframe tbody tr th:only-of-type {\n",
              "        vertical-align: middle;\n",
              "    }\n",
              "\n",
              "    .dataframe tbody tr th {\n",
              "        vertical-align: top;\n",
              "    }\n",
              "\n",
              "    .dataframe thead th {\n",
              "        text-align: right;\n",
              "    }\n",
              "</style>\n",
              "<table border=\"1\" class=\"dataframe\">\n",
              "  <thead>\n",
              "    <tr style=\"text-align: right;\">\n",
              "      <th></th>\n",
              "      <th>text</th>\n",
              "      <th>labels</th>\n",
              "    </tr>\n",
              "  </thead>\n",
              "  <tbody>\n",
              "    <tr>\n",
              "      <th>0</th>\n",
              "      <td>ঢাকা বিশ্ববিদ্যালয় কোটাবিরোধী আন্দোলনের নেতাকে...</td>\n",
              "      <td>0</td>\n",
              "    </tr>\n",
              "    <tr>\n",
              "      <th>1</th>\n",
              "      <td>কোটাবিরোধী আন্দোলনে ঢাকা বিশ্ববিদ্যালয়ের বিএনপ...</td>\n",
              "      <td>2</td>\n",
              "    </tr>\n",
              "    <tr>\n",
              "      <th>2</th>\n",
              "      <td>কোটাবিরোধী আন্দোলন  আজও জিরো পয়েন্ট অবরোধ করে ...</td>\n",
              "      <td>0</td>\n",
              "    </tr>\n",
              "    <tr>\n",
              "      <th>3</th>\n",
              "      <td>সর্বজনীন পেনশন সরকার অনড় আন্দোলন চালিয়ে যাবেন ...</td>\n",
              "      <td>0</td>\n",
              "    </tr>\n",
              "    <tr>\n",
              "      <th>4</th>\n",
              "      <td>আজ শনিবার সকাল সাড়ে টার দিকে মহাসড়কের শহর বাইপ...</td>\n",
              "      <td>0</td>\n",
              "    </tr>\n",
              "  </tbody>\n",
              "</table>\n",
              "</div>\n",
              "    <div class=\"colab-df-buttons\">\n",
              "\n",
              "  <div class=\"colab-df-container\">\n",
              "    <button class=\"colab-df-convert\" onclick=\"convertToInteractive('df-2066bf42-d1c0-4af4-bb6a-dfc23825889b')\"\n",
              "            title=\"Convert this dataframe to an interactive table.\"\n",
              "            style=\"display:none;\">\n",
              "\n",
              "  <svg xmlns=\"http://www.w3.org/2000/svg\" height=\"24px\" viewBox=\"0 -960 960 960\">\n",
              "    <path d=\"M120-120v-720h720v720H120Zm60-500h600v-160H180v160Zm220 220h160v-160H400v160Zm0 220h160v-160H400v160ZM180-400h160v-160H180v160Zm440 0h160v-160H620v160ZM180-180h160v-160H180v160Zm440 0h160v-160H620v160Z\"/>\n",
              "  </svg>\n",
              "    </button>\n",
              "\n",
              "  <style>\n",
              "    .colab-df-container {\n",
              "      display:flex;\n",
              "      gap: 12px;\n",
              "    }\n",
              "\n",
              "    .colab-df-convert {\n",
              "      background-color: #E8F0FE;\n",
              "      border: none;\n",
              "      border-radius: 50%;\n",
              "      cursor: pointer;\n",
              "      display: none;\n",
              "      fill: #1967D2;\n",
              "      height: 32px;\n",
              "      padding: 0 0 0 0;\n",
              "      width: 32px;\n",
              "    }\n",
              "\n",
              "    .colab-df-convert:hover {\n",
              "      background-color: #E2EBFA;\n",
              "      box-shadow: 0px 1px 2px rgba(60, 64, 67, 0.3), 0px 1px 3px 1px rgba(60, 64, 67, 0.15);\n",
              "      fill: #174EA6;\n",
              "    }\n",
              "\n",
              "    .colab-df-buttons div {\n",
              "      margin-bottom: 4px;\n",
              "    }\n",
              "\n",
              "    [theme=dark] .colab-df-convert {\n",
              "      background-color: #3B4455;\n",
              "      fill: #D2E3FC;\n",
              "    }\n",
              "\n",
              "    [theme=dark] .colab-df-convert:hover {\n",
              "      background-color: #434B5C;\n",
              "      box-shadow: 0px 1px 3px 1px rgba(0, 0, 0, 0.15);\n",
              "      filter: drop-shadow(0px 1px 2px rgba(0, 0, 0, 0.3));\n",
              "      fill: #FFFFFF;\n",
              "    }\n",
              "  </style>\n",
              "\n",
              "    <script>\n",
              "      const buttonEl =\n",
              "        document.querySelector('#df-2066bf42-d1c0-4af4-bb6a-dfc23825889b button.colab-df-convert');\n",
              "      buttonEl.style.display =\n",
              "        google.colab.kernel.accessAllowed ? 'block' : 'none';\n",
              "\n",
              "      async function convertToInteractive(key) {\n",
              "        const element = document.querySelector('#df-2066bf42-d1c0-4af4-bb6a-dfc23825889b');\n",
              "        const dataTable =\n",
              "          await google.colab.kernel.invokeFunction('convertToInteractive',\n",
              "                                                    [key], {});\n",
              "        if (!dataTable) return;\n",
              "\n",
              "        const docLinkHtml = 'Like what you see? Visit the ' +\n",
              "          '<a target=\"_blank\" href=https://colab.research.google.com/notebooks/data_table.ipynb>data table notebook</a>'\n",
              "          + ' to learn more about interactive tables.';\n",
              "        element.innerHTML = '';\n",
              "        dataTable['output_type'] = 'display_data';\n",
              "        await google.colab.output.renderOutput(dataTable, element);\n",
              "        const docLink = document.createElement('div');\n",
              "        docLink.innerHTML = docLinkHtml;\n",
              "        element.appendChild(docLink);\n",
              "      }\n",
              "    </script>\n",
              "  </div>\n",
              "\n",
              "\n",
              "<div id=\"df-773383e3-0414-4449-aecf-cb56d451819f\">\n",
              "  <button class=\"colab-df-quickchart\" onclick=\"quickchart('df-773383e3-0414-4449-aecf-cb56d451819f')\"\n",
              "            title=\"Suggest charts\"\n",
              "            style=\"display:none;\">\n",
              "\n",
              "<svg xmlns=\"http://www.w3.org/2000/svg\" height=\"24px\"viewBox=\"0 0 24 24\"\n",
              "     width=\"24px\">\n",
              "    <g>\n",
              "        <path d=\"M19 3H5c-1.1 0-2 .9-2 2v14c0 1.1.9 2 2 2h14c1.1 0 2-.9 2-2V5c0-1.1-.9-2-2-2zM9 17H7v-7h2v7zm4 0h-2V7h2v10zm4 0h-2v-4h2v4z\"/>\n",
              "    </g>\n",
              "</svg>\n",
              "  </button>\n",
              "\n",
              "<style>\n",
              "  .colab-df-quickchart {\n",
              "      --bg-color: #E8F0FE;\n",
              "      --fill-color: #1967D2;\n",
              "      --hover-bg-color: #E2EBFA;\n",
              "      --hover-fill-color: #174EA6;\n",
              "      --disabled-fill-color: #AAA;\n",
              "      --disabled-bg-color: #DDD;\n",
              "  }\n",
              "\n",
              "  [theme=dark] .colab-df-quickchart {\n",
              "      --bg-color: #3B4455;\n",
              "      --fill-color: #D2E3FC;\n",
              "      --hover-bg-color: #434B5C;\n",
              "      --hover-fill-color: #FFFFFF;\n",
              "      --disabled-bg-color: #3B4455;\n",
              "      --disabled-fill-color: #666;\n",
              "  }\n",
              "\n",
              "  .colab-df-quickchart {\n",
              "    background-color: var(--bg-color);\n",
              "    border: none;\n",
              "    border-radius: 50%;\n",
              "    cursor: pointer;\n",
              "    display: none;\n",
              "    fill: var(--fill-color);\n",
              "    height: 32px;\n",
              "    padding: 0;\n",
              "    width: 32px;\n",
              "  }\n",
              "\n",
              "  .colab-df-quickchart:hover {\n",
              "    background-color: var(--hover-bg-color);\n",
              "    box-shadow: 0 1px 2px rgba(60, 64, 67, 0.3), 0 1px 3px 1px rgba(60, 64, 67, 0.15);\n",
              "    fill: var(--button-hover-fill-color);\n",
              "  }\n",
              "\n",
              "  .colab-df-quickchart-complete:disabled,\n",
              "  .colab-df-quickchart-complete:disabled:hover {\n",
              "    background-color: var(--disabled-bg-color);\n",
              "    fill: var(--disabled-fill-color);\n",
              "    box-shadow: none;\n",
              "  }\n",
              "\n",
              "  .colab-df-spinner {\n",
              "    border: 2px solid var(--fill-color);\n",
              "    border-color: transparent;\n",
              "    border-bottom-color: var(--fill-color);\n",
              "    animation:\n",
              "      spin 1s steps(1) infinite;\n",
              "  }\n",
              "\n",
              "  @keyframes spin {\n",
              "    0% {\n",
              "      border-color: transparent;\n",
              "      border-bottom-color: var(--fill-color);\n",
              "      border-left-color: var(--fill-color);\n",
              "    }\n",
              "    20% {\n",
              "      border-color: transparent;\n",
              "      border-left-color: var(--fill-color);\n",
              "      border-top-color: var(--fill-color);\n",
              "    }\n",
              "    30% {\n",
              "      border-color: transparent;\n",
              "      border-left-color: var(--fill-color);\n",
              "      border-top-color: var(--fill-color);\n",
              "      border-right-color: var(--fill-color);\n",
              "    }\n",
              "    40% {\n",
              "      border-color: transparent;\n",
              "      border-right-color: var(--fill-color);\n",
              "      border-top-color: var(--fill-color);\n",
              "    }\n",
              "    60% {\n",
              "      border-color: transparent;\n",
              "      border-right-color: var(--fill-color);\n",
              "    }\n",
              "    80% {\n",
              "      border-color: transparent;\n",
              "      border-right-color: var(--fill-color);\n",
              "      border-bottom-color: var(--fill-color);\n",
              "    }\n",
              "    90% {\n",
              "      border-color: transparent;\n",
              "      border-bottom-color: var(--fill-color);\n",
              "    }\n",
              "  }\n",
              "</style>\n",
              "\n",
              "  <script>\n",
              "    async function quickchart(key) {\n",
              "      const quickchartButtonEl =\n",
              "        document.querySelector('#' + key + ' button');\n",
              "      quickchartButtonEl.disabled = true;  // To prevent multiple clicks.\n",
              "      quickchartButtonEl.classList.add('colab-df-spinner');\n",
              "      try {\n",
              "        const charts = await google.colab.kernel.invokeFunction(\n",
              "            'suggestCharts', [key], {});\n",
              "      } catch (error) {\n",
              "        console.error('Error during call to suggestCharts:', error);\n",
              "      }\n",
              "      quickchartButtonEl.classList.remove('colab-df-spinner');\n",
              "      quickchartButtonEl.classList.add('colab-df-quickchart-complete');\n",
              "    }\n",
              "    (() => {\n",
              "      let quickchartButtonEl =\n",
              "        document.querySelector('#df-773383e3-0414-4449-aecf-cb56d451819f button');\n",
              "      quickchartButtonEl.style.display =\n",
              "        google.colab.kernel.accessAllowed ? 'block' : 'none';\n",
              "    })();\n",
              "  </script>\n",
              "</div>\n",
              "\n",
              "    </div>\n",
              "  </div>\n"
            ],
            "application/vnd.google.colaboratory.intrinsic+json": {
              "type": "dataframe",
              "variable_name": "df",
              "summary": "{\n  \"name\": \"df\",\n  \"rows\": 2028,\n  \"fields\": [\n    {\n      \"column\": \"text\",\n      \"properties\": {\n        \"dtype\": \"string\",\n        \"num_unique_values\": 2025,\n        \"samples\": [\n          \"\\u099c\\u09be\\u09ae\\u09be\\u09af\\u09bc\\u09be\\u09a4\\u09c7 \\u0987\\u09b8\\u09b2\\u09be\\u09ae\\u09c0 \\u0993 \\u0987\\u09b8\\u09b2\\u09be\\u09ae\\u09c0 \\u099b\\u09be\\u09a4\\u09cd\\u09b0\\u09b6\\u09bf\\u09ac\\u09bf\\u09b0\\u0995\\u09c7 \\u09a8\\u09bf\\u09b7\\u09bf\\u09a6\\u09cd\\u09a7 \\u0995\\u09b0\\u09c7 \\u099c\\u09be\\u09b0\\u09bf \\u0995\\u09b0\\u09be \\u09aa\\u09cd\\u09b0\\u099c\\u09cd\\u099e\\u09be\\u09aa\\u09a8 \\u09ac\\u09be\\u09a4\\u09bf\\u09b2 \\u0995\\u09b0\\u09be \\u09b9\\u09af\\u09bc\\u09c7\\u099b\\u09c7\",\n          \"\\u09aa\\u099e\\u09cd\\u099a\\u09be\\u09b6 \\u09b2\\u09be\\u0996 \\u099f\\u09be\\u0995\\u09be\\u09b0 \\u09ae\\u09be\\u099b\\u09c7\\u09b0 \\u09aa\\u09cd\\u09b0\\u099c\\u09c7\\u0995\\u09cd\\u099f \\u09b9\\u09be\\u09b0\\u09bf\\u09df\\u09c7 \\u0997\\u09c7\\u099b\\u09c7 \\u09ac\\u09b8\\u09c7 \\u09ac\\u09b8\\u09c7 \\u09b6\\u09c1\\u09a7\\u09c1 \\u09a6\\u09c7\\u0996\\u09c7\\u099b\\u09bf\",\n          \"\\u09b6\\u09bf\\u0995\\u09cd\\u09b7\\u09be\\u09b0\\u09cd\\u09a5\\u09c0\\u0995\\u09c7 \\u099a\\u09cd\\u09af\\u09be\\u0982\\u09a6\\u09cb\\u09b2\\u09be \\u0995\\u09b0\\u09c7 \\u09a8\\u09bf\\u09df\\u09c7 \\u09af\\u09be\\u0993\\u09df\\u09be\\u09b0 \\u099a\\u09c7\\u09b7\\u09cd\\u099f\\u09be \\u09a1\\u09bf\\u09ac\\u09bf \\u09aa\\u09c1\\u09b2\\u09bf\\u09b6\\u09c7\\u09b0\"\n        ],\n        \"semantic_type\": \"\",\n        \"description\": \"\"\n      }\n    },\n    {\n      \"column\": \"labels\",\n      \"properties\": {\n        \"dtype\": \"number\",\n        \"std\": 0,\n        \"min\": 0,\n        \"max\": 2,\n        \"num_unique_values\": 3,\n        \"samples\": [\n          0,\n          2,\n          1\n        ],\n        \"semantic_type\": \"\",\n        \"description\": \"\"\n      }\n    }\n  ]\n}"
            }
          },
          "metadata": {},
          "execution_count": 6
        }
      ]
    },
    {
      "cell_type": "code",
      "source": [
        "# Split the data\n",
        "train_df, test_df = train_test_split(df, test_size=0.2, random_state=42)\n",
        "\n",
        "# Convert to Hugging Face Dataset objects\n",
        "train_dataset = Dataset.from_pandas(train_df)\n",
        "test_dataset = Dataset.from_pandas(test_df)"
      ],
      "metadata": {
        "id": "Sla5AcHmlSQt"
      },
      "execution_count": 7,
      "outputs": []
    },
    {
      "cell_type": "code",
      "source": [
        "# Load the model and tokenizer\n",
        "model_name = \"csebuetnlp/banglabert\"\n",
        "tokenizer = AutoTokenizer.from_pretrained(model_name)\n",
        "model = AutoModelForSequenceClassification.from_pretrained(model_name, num_labels=3) # num_labels=3 (outrage/despair/hope)"
      ],
      "metadata": {
        "colab": {
          "base_uri": "https://localhost:8080/"
        },
        "id": "ddrq_BjYlWv1",
        "outputId": "c2c17494-2f66-45ba-8f6a-68a6f896a0a5"
      },
      "execution_count": 8,
      "outputs": [
        {
          "output_type": "stream",
          "name": "stderr",
          "text": [
            "/usr/local/lib/python3.10/dist-packages/huggingface_hub/utils/_auth.py:94: UserWarning: \n",
            "The secret `HF_TOKEN` does not exist in your Colab secrets.\n",
            "To authenticate with the Hugging Face Hub, create a token in your settings tab (https://huggingface.co/settings/tokens), set it as secret in your Google Colab and restart your session.\n",
            "You will be able to reuse this secret in all of your notebooks.\n",
            "Please note that authentication is recommended but still optional to access public models or datasets.\n",
            "  warnings.warn(\n",
            "Some weights of ElectraForSequenceClassification were not initialized from the model checkpoint at csebuetnlp/banglabert and are newly initialized: ['classifier.dense.bias', 'classifier.dense.weight', 'classifier.out_proj.bias', 'classifier.out_proj.weight']\n",
            "You should probably TRAIN this model on a down-stream task to be able to use it for predictions and inference.\n"
          ]
        }
      ]
    },
    {
      "cell_type": "code",
      "source": [
        "def tokenize_function(examples):\n",
        "    return tokenizer(examples['text'], padding=\"max_length\", truncation=True, max_length=512)\n",
        "\n",
        "tokenized_train_dataset = train_dataset.map(tokenize_function, batched=True)\n",
        "tokenized_test_dataset = test_dataset.map(tokenize_function, batched=True)"
      ],
      "metadata": {
        "colab": {
          "base_uri": "https://localhost:8080/",
          "height": 81,
          "referenced_widgets": [
            "249b0a5fa78447dbbd4e00177492f5e7",
            "868e41d2fd274f269261ef4aa41b55a9",
            "0a0a1124f4b04cff912db2936c5b9422",
            "182724713c714d12979dec8872cbf20d",
            "d82a25cea2494ca39bd77fb245f675d4",
            "ee8bf68fb8754292a0fa8fe27260b8f7",
            "255cd3cf3cbf4da5bfe5f2fa443d0d91",
            "5bde1ccec20a42df8500a3b2398b6838",
            "03a6e03019914b53ac100aa31048cf6e",
            "6b5776618c174fe4b6e3a8737d75041e",
            "1b9a55aed35e4c3b9f760748853a58b4",
            "0d125366602e4048b268aac6e2cb7617",
            "91b3a7e8a822405fa729539aaac7925b",
            "ead69e8ad6bd42819eb4cf8f0921c6ee",
            "dfdebd2fbc614b178938755889e11c24",
            "823a4007933f4bd085a47e2b9eca6db4",
            "a8d4b33c71f445a696f02058de2e09e1",
            "9411c6a8158d4f63a851956859712a1e",
            "17f57c8f0a8c42029919fe4413e35f82",
            "939296967c5e4d899534fc04a533462b",
            "7809285375d042a49243d8f45d698a6e",
            "3f1ded3886274a888772c7b14f8f34c5"
          ]
        },
        "id": "oXXr4NJcl6qG",
        "outputId": "48f40cb6-3368-4dec-d7a6-4903b2588324"
      },
      "execution_count": 9,
      "outputs": [
        {
          "output_type": "display_data",
          "data": {
            "text/plain": [
              "Map:   0%|          | 0/1622 [00:00<?, ? examples/s]"
            ],
            "application/vnd.jupyter.widget-view+json": {
              "version_major": 2,
              "version_minor": 0,
              "model_id": "249b0a5fa78447dbbd4e00177492f5e7"
            }
          },
          "metadata": {}
        },
        {
          "output_type": "display_data",
          "data": {
            "text/plain": [
              "Map:   0%|          | 0/406 [00:00<?, ? examples/s]"
            ],
            "application/vnd.jupyter.widget-view+json": {
              "version_major": 2,
              "version_minor": 0,
              "model_id": "0d125366602e4048b268aac6e2cb7617"
            }
          },
          "metadata": {}
        }
      ]
    },
    {
      "cell_type": "code",
      "source": [
        "training_args = TrainingArguments(\n",
        "    output_dir=\"./banglabert_sentiment\",\n",
        "    learning_rate=2e-5,\n",
        "    per_device_train_batch_size=16,\n",
        "    per_device_eval_batch_size=16,\n",
        "    num_train_epochs=15,\n",
        "    weight_decay=0.01,\n",
        "    evaluation_strategy=\"epoch\",\n",
        "    save_strategy=\"epoch\",\n",
        "    load_best_model_at_end=True,\n",
        ")\n",
        "\n",
        "# Initialize wandb\n",
        "wandb.init(project=\"banglabert-sentiment\",\n",
        "             name=\"banglabert-sentiment-run\",\n",
        "             config=training_args)"
      ],
      "metadata": {
        "colab": {
          "base_uri": "https://localhost:8080/",
          "height": 214
        },
        "id": "PLlLXOqil9Is",
        "outputId": "db6f1dec-8b1c-4e21-811a-691765c9e1ee"
      },
      "execution_count": 11,
      "outputs": [
        {
          "output_type": "stream",
          "name": "stderr",
          "text": [
            "/usr/local/lib/python3.10/dist-packages/transformers/training_args.py:1575: FutureWarning: `evaluation_strategy` is deprecated and will be removed in version 4.46 of 🤗 Transformers. Use `eval_strategy` instead\n",
            "  warnings.warn(\n",
            "\u001b[34m\u001b[1mwandb\u001b[0m: Using wandb-core as the SDK backend.  Please refer to https://wandb.me/wandb-core for more information.\n",
            "\u001b[34m\u001b[1mwandb\u001b[0m: Currently logged in as: \u001b[33mtanvirrahmedd\u001b[0m (\u001b[33mtanvirrahmedd-north-south-university\u001b[0m). Use \u001b[1m`wandb login --relogin`\u001b[0m to force relogin\n"
          ]
        },
        {
          "output_type": "display_data",
          "data": {
            "text/plain": [
              "<IPython.core.display.HTML object>"
            ],
            "text/html": [
              "Tracking run with wandb version 0.19.1"
            ]
          },
          "metadata": {}
        },
        {
          "output_type": "display_data",
          "data": {
            "text/plain": [
              "<IPython.core.display.HTML object>"
            ],
            "text/html": [
              "Run data is saved locally in <code>/content/wandb/run-20250106_082525-umvr49q2</code>"
            ]
          },
          "metadata": {}
        },
        {
          "output_type": "display_data",
          "data": {
            "text/plain": [
              "<IPython.core.display.HTML object>"
            ],
            "text/html": [
              "Syncing run <strong><a href='https://wandb.ai/tanvirrahmedd-north-south-university/banglabert-sentiment/runs/umvr49q2' target=\"_blank\">banglabert-sentiment-run</a></strong> to <a href='https://wandb.ai/tanvirrahmedd-north-south-university/banglabert-sentiment' target=\"_blank\">Weights & Biases</a> (<a href='https://wandb.me/developer-guide' target=\"_blank\">docs</a>)<br>"
            ]
          },
          "metadata": {}
        },
        {
          "output_type": "display_data",
          "data": {
            "text/plain": [
              "<IPython.core.display.HTML object>"
            ],
            "text/html": [
              " View project at <a href='https://wandb.ai/tanvirrahmedd-north-south-university/banglabert-sentiment' target=\"_blank\">https://wandb.ai/tanvirrahmedd-north-south-university/banglabert-sentiment</a>"
            ]
          },
          "metadata": {}
        },
        {
          "output_type": "display_data",
          "data": {
            "text/plain": [
              "<IPython.core.display.HTML object>"
            ],
            "text/html": [
              " View run at <a href='https://wandb.ai/tanvirrahmedd-north-south-university/banglabert-sentiment/runs/umvr49q2' target=\"_blank\">https://wandb.ai/tanvirrahmedd-north-south-university/banglabert-sentiment/runs/umvr49q2</a>"
            ]
          },
          "metadata": {}
        },
        {
          "output_type": "execute_result",
          "data": {
            "text/html": [
              "<button onClick=\"this.nextSibling.style.display='block';this.style.display='none';\">Display W&B run</button><iframe src='https://wandb.ai/tanvirrahmedd-north-south-university/banglabert-sentiment/runs/umvr49q2?jupyter=true' style='border:none;width:100%;height:420px;display:none;'></iframe>"
            ],
            "text/plain": [
              "<wandb.sdk.wandb_run.Run at 0x7c49f373b340>"
            ]
          },
          "metadata": {},
          "execution_count": 11
        }
      ]
    },
    {
      "cell_type": "code",
      "source": [
        "def compute_metrics(eval_pred):\n",
        "   logits, labels = eval_pred\n",
        "   predictions = np.argmax(logits, axis=-1)\n",
        "   from sklearn.metrics import accuracy_score, f1_score\n",
        "   accuracy = accuracy_score(labels, predictions)\n",
        "   f1 = f1_score(labels, predictions, average='weighted')\n",
        "   return {\"accuracy\": accuracy, \"f1_score\": f1}\n",
        "\n",
        "trainer = Trainer(\n",
        "   model=model,\n",
        "   args=training_args,\n",
        "   train_dataset=tokenized_train_dataset,\n",
        "   eval_dataset=tokenized_test_dataset,\n",
        "   tokenizer=tokenizer,\n",
        "   compute_metrics=compute_metrics\n",
        ")"
      ],
      "metadata": {
        "colab": {
          "base_uri": "https://localhost:8080/"
        },
        "id": "q5XpBO6hl_xc",
        "outputId": "64ef960d-161d-4530-e692-86694f36bc43"
      },
      "execution_count": 12,
      "outputs": [
        {
          "output_type": "stream",
          "name": "stderr",
          "text": [
            "<ipython-input-12-cac006295104>:9: FutureWarning: `tokenizer` is deprecated and will be removed in version 5.0.0 for `Trainer.__init__`. Use `processing_class` instead.\n",
            "  trainer = Trainer(\n"
          ]
        }
      ]
    },
    {
      "cell_type": "code",
      "source": [
        "trainer.train()"
      ],
      "metadata": {
        "colab": {
          "base_uri": "https://localhost:8080/",
          "height": 617
        },
        "id": "dcsLKDc2mDx8",
        "outputId": "a6b668ae-c27c-499f-df8d-2df360f9e701"
      },
      "execution_count": 13,
      "outputs": [
        {
          "output_type": "stream",
          "name": "stderr",
          "text": [
            "\u001b[34m\u001b[1mwandb\u001b[0m: \u001b[33mWARNING\u001b[0m The `run_name` is currently set to the same value as `TrainingArguments.output_dir`. If this was not intended, please specify a different run name by setting the `TrainingArguments.run_name` parameter.\n"
          ]
        },
        {
          "output_type": "display_data",
          "data": {
            "text/plain": [
              "<IPython.core.display.HTML object>"
            ],
            "text/html": [
              "\n",
              "    <div>\n",
              "      \n",
              "      <progress value='1530' max='1530' style='width:300px; height:20px; vertical-align: middle;'></progress>\n",
              "      [1530/1530 41:45, Epoch 15/15]\n",
              "    </div>\n",
              "    <table border=\"1\" class=\"dataframe\">\n",
              "  <thead>\n",
              " <tr style=\"text-align: left;\">\n",
              "      <th>Epoch</th>\n",
              "      <th>Training Loss</th>\n",
              "      <th>Validation Loss</th>\n",
              "      <th>Accuracy</th>\n",
              "      <th>F1 Score</th>\n",
              "    </tr>\n",
              "  </thead>\n",
              "  <tbody>\n",
              "    <tr>\n",
              "      <td>1</td>\n",
              "      <td>No log</td>\n",
              "      <td>0.721569</td>\n",
              "      <td>0.741379</td>\n",
              "      <td>0.722974</td>\n",
              "    </tr>\n",
              "    <tr>\n",
              "      <td>2</td>\n",
              "      <td>No log</td>\n",
              "      <td>0.591907</td>\n",
              "      <td>0.778325</td>\n",
              "      <td>0.767533</td>\n",
              "    </tr>\n",
              "    <tr>\n",
              "      <td>3</td>\n",
              "      <td>No log</td>\n",
              "      <td>0.627684</td>\n",
              "      <td>0.780788</td>\n",
              "      <td>0.778094</td>\n",
              "    </tr>\n",
              "    <tr>\n",
              "      <td>4</td>\n",
              "      <td>No log</td>\n",
              "      <td>0.745512</td>\n",
              "      <td>0.790640</td>\n",
              "      <td>0.785824</td>\n",
              "    </tr>\n",
              "    <tr>\n",
              "      <td>5</td>\n",
              "      <td>0.444200</td>\n",
              "      <td>0.791546</td>\n",
              "      <td>0.812808</td>\n",
              "      <td>0.811139</td>\n",
              "    </tr>\n",
              "    <tr>\n",
              "      <td>6</td>\n",
              "      <td>0.444200</td>\n",
              "      <td>0.939942</td>\n",
              "      <td>0.793103</td>\n",
              "      <td>0.796041</td>\n",
              "    </tr>\n",
              "    <tr>\n",
              "      <td>7</td>\n",
              "      <td>0.444200</td>\n",
              "      <td>0.969602</td>\n",
              "      <td>0.807882</td>\n",
              "      <td>0.807001</td>\n",
              "    </tr>\n",
              "    <tr>\n",
              "      <td>8</td>\n",
              "      <td>0.444200</td>\n",
              "      <td>0.998437</td>\n",
              "      <td>0.815271</td>\n",
              "      <td>0.813883</td>\n",
              "    </tr>\n",
              "    <tr>\n",
              "      <td>9</td>\n",
              "      <td>0.444200</td>\n",
              "      <td>1.059058</td>\n",
              "      <td>0.807882</td>\n",
              "      <td>0.806774</td>\n",
              "    </tr>\n",
              "    <tr>\n",
              "      <td>10</td>\n",
              "      <td>0.028400</td>\n",
              "      <td>1.064830</td>\n",
              "      <td>0.820197</td>\n",
              "      <td>0.817990</td>\n",
              "    </tr>\n",
              "    <tr>\n",
              "      <td>11</td>\n",
              "      <td>0.028400</td>\n",
              "      <td>1.070402</td>\n",
              "      <td>0.825123</td>\n",
              "      <td>0.823854</td>\n",
              "    </tr>\n",
              "    <tr>\n",
              "      <td>12</td>\n",
              "      <td>0.028400</td>\n",
              "      <td>1.043340</td>\n",
              "      <td>0.837438</td>\n",
              "      <td>0.836982</td>\n",
              "    </tr>\n",
              "    <tr>\n",
              "      <td>13</td>\n",
              "      <td>0.028400</td>\n",
              "      <td>1.197419</td>\n",
              "      <td>0.810345</td>\n",
              "      <td>0.808857</td>\n",
              "    </tr>\n",
              "    <tr>\n",
              "      <td>14</td>\n",
              "      <td>0.028400</td>\n",
              "      <td>1.155440</td>\n",
              "      <td>0.815271</td>\n",
              "      <td>0.814138</td>\n",
              "    </tr>\n",
              "    <tr>\n",
              "      <td>15</td>\n",
              "      <td>0.003600</td>\n",
              "      <td>1.218118</td>\n",
              "      <td>0.810345</td>\n",
              "      <td>0.809160</td>\n",
              "    </tr>\n",
              "  </tbody>\n",
              "</table><p>"
            ]
          },
          "metadata": {}
        },
        {
          "output_type": "execute_result",
          "data": {
            "text/plain": [
              "TrainOutput(global_step=1530, training_loss=0.15580185123907975, metrics={'train_runtime': 2507.7338, 'train_samples_per_second': 9.702, 'train_steps_per_second': 0.61, 'total_flos': 6401549453322240.0, 'train_loss': 0.15580185123907975, 'epoch': 15.0})"
            ]
          },
          "metadata": {},
          "execution_count": 13
        }
      ]
    },
    {
      "cell_type": "code",
      "source": [
        "evaluation = trainer.evaluate()\n",
        "print(evaluation)"
      ],
      "metadata": {
        "colab": {
          "base_uri": "https://localhost:8080/",
          "height": 74
        },
        "id": "Vbv8cMaLmFt8",
        "outputId": "e28f434e-f3df-46cc-cc9b-af3edcd3c420"
      },
      "execution_count": 14,
      "outputs": [
        {
          "output_type": "display_data",
          "data": {
            "text/plain": [
              "<IPython.core.display.HTML object>"
            ],
            "text/html": [
              "\n",
              "    <div>\n",
              "      \n",
              "      <progress value='26' max='26' style='width:300px; height:20px; vertical-align: middle;'></progress>\n",
              "      [26/26 00:12]\n",
              "    </div>\n",
              "    "
            ]
          },
          "metadata": {}
        },
        {
          "output_type": "stream",
          "name": "stdout",
          "text": [
            "{'eval_loss': 0.5919071435928345, 'eval_accuracy': 0.7783251231527094, 'eval_f1_score': 0.7675333419094921, 'eval_runtime': 12.8776, 'eval_samples_per_second': 31.528, 'eval_steps_per_second': 2.019, 'epoch': 15.0}\n"
          ]
        }
      ]
    },
    {
      "cell_type": "code",
      "source": [
        "trainer.save_model(\"./fine_tuned_banglabert_sentiment\")\n",
        "tokenizer.save_pretrained(\"./fine_tuned_banglabert_sentiment\")"
      ],
      "metadata": {
        "colab": {
          "base_uri": "https://localhost:8080/"
        },
        "id": "7QyZeeDjmHE8",
        "outputId": "bf580663-be66-49c2-f628-41763fdc5b07"
      },
      "execution_count": 15,
      "outputs": [
        {
          "output_type": "execute_result",
          "data": {
            "text/plain": [
              "('./fine_tuned_banglabert_sentiment/tokenizer_config.json',\n",
              " './fine_tuned_banglabert_sentiment/special_tokens_map.json',\n",
              " './fine_tuned_banglabert_sentiment/vocab.txt',\n",
              " './fine_tuned_banglabert_sentiment/added_tokens.json',\n",
              " './fine_tuned_banglabert_sentiment/tokenizer.json')"
            ]
          },
          "metadata": {},
          "execution_count": 15
        }
      ]
    },
    {
      "cell_type": "code",
      "source": [
        "!zip -r /content/fine_tuned_banglabert_sentiment.zip /content/fine_tuned_banglabert_sentiment\n"
      ],
      "metadata": {
        "colab": {
          "base_uri": "https://localhost:8080/"
        },
        "id": "gvkr7E1dqbEo",
        "outputId": "16c7593d-8e86-404a-eb21-14072006513b"
      },
      "execution_count": 16,
      "outputs": [
        {
          "output_type": "stream",
          "name": "stdout",
          "text": [
            "updating: content/fine_tuned_banglabert_sentiment/ (stored 0%)\n",
            "updating: content/fine_tuned_banglabert_sentiment/training_args.bin (deflated 51%)\n",
            "updating: content/fine_tuned_banglabert_sentiment/tokenizer.json (deflated 76%)\n",
            "updating: content/fine_tuned_banglabert_sentiment/config.json (deflated 54%)\n",
            "updating: content/fine_tuned_banglabert_sentiment/tokenizer_config.json (deflated 74%)\n",
            "updating: content/fine_tuned_banglabert_sentiment/special_tokens_map.json (deflated 42%)\n",
            "updating: content/fine_tuned_banglabert_sentiment/vocab.txt (deflated 71%)\n",
            "updating: content/fine_tuned_banglabert_sentiment/model.safetensors (deflated 7%)\n"
          ]
        }
      ]
    },
    {
      "cell_type": "code",
      "source": [
        "# Load the fine-tuned model and tokenizer\n",
        "model_path = \"./fine_tuned_banglabert_sentiment\"\n",
        "tokenizer = AutoTokenizer.from_pretrained(model_path)\n",
        "model = AutoModelForSequenceClassification.from_pretrained(model_path, num_labels=3)\n",
        "model.eval()  # Set the model to evaluation mode"
      ],
      "metadata": {
        "id": "zpyMs_lcqi4g",
        "colab": {
          "base_uri": "https://localhost:8080/"
        },
        "outputId": "de94f3d2-9695-40d3-d4d8-c60a904ce15f"
      },
      "execution_count": 17,
      "outputs": [
        {
          "output_type": "execute_result",
          "data": {
            "text/plain": [
              "ElectraForSequenceClassification(\n",
              "  (electra): ElectraModel(\n",
              "    (embeddings): ElectraEmbeddings(\n",
              "      (word_embeddings): Embedding(32000, 768, padding_idx=0)\n",
              "      (position_embeddings): Embedding(512, 768)\n",
              "      (token_type_embeddings): Embedding(2, 768)\n",
              "      (LayerNorm): LayerNorm((768,), eps=1e-12, elementwise_affine=True)\n",
              "      (dropout): Dropout(p=0.1, inplace=False)\n",
              "    )\n",
              "    (encoder): ElectraEncoder(\n",
              "      (layer): ModuleList(\n",
              "        (0-11): 12 x ElectraLayer(\n",
              "          (attention): ElectraAttention(\n",
              "            (self): ElectraSelfAttention(\n",
              "              (query): Linear(in_features=768, out_features=768, bias=True)\n",
              "              (key): Linear(in_features=768, out_features=768, bias=True)\n",
              "              (value): Linear(in_features=768, out_features=768, bias=True)\n",
              "              (dropout): Dropout(p=0.1, inplace=False)\n",
              "            )\n",
              "            (output): ElectraSelfOutput(\n",
              "              (dense): Linear(in_features=768, out_features=768, bias=True)\n",
              "              (LayerNorm): LayerNorm((768,), eps=1e-12, elementwise_affine=True)\n",
              "              (dropout): Dropout(p=0.1, inplace=False)\n",
              "            )\n",
              "          )\n",
              "          (intermediate): ElectraIntermediate(\n",
              "            (dense): Linear(in_features=768, out_features=3072, bias=True)\n",
              "            (intermediate_act_fn): GELUActivation()\n",
              "          )\n",
              "          (output): ElectraOutput(\n",
              "            (dense): Linear(in_features=3072, out_features=768, bias=True)\n",
              "            (LayerNorm): LayerNorm((768,), eps=1e-12, elementwise_affine=True)\n",
              "            (dropout): Dropout(p=0.1, inplace=False)\n",
              "          )\n",
              "        )\n",
              "      )\n",
              "    )\n",
              "  )\n",
              "  (classifier): ElectraClassificationHead(\n",
              "    (dense): Linear(in_features=768, out_features=768, bias=True)\n",
              "    (activation): GELUActivation()\n",
              "    (dropout): Dropout(p=0.1, inplace=False)\n",
              "    (out_proj): Linear(in_features=768, out_features=3, bias=True)\n",
              "  )\n",
              ")"
            ]
          },
          "metadata": {},
          "execution_count": 17
        }
      ]
    },
    {
      "cell_type": "code",
      "source": [
        "# Define a reverse label mapping\n",
        "reverse_label_map = {0: \"outrage\", 1: \"despair\", 2: \"hope\"}\n",
        "\n",
        "\n",
        "# Function to perform sentiment prediction using the fine-tuned model\n",
        "def predict_sentiment(text):\n",
        "    inputs = tokenizer(text, return_tensors=\"pt\", padding=True, truncation=True, max_length=512)\n",
        "    with torch.no_grad():  # Disable gradient calculations for inference\n",
        "        outputs = model(**inputs)\n",
        "    predictions = torch.argmax(outputs.logits, dim=-1).item()\n",
        "    return reverse_label_map[predictions]"
      ],
      "metadata": {
        "id": "nEr4gc6StEod"
      },
      "execution_count": 18,
      "outputs": []
    },
    {
      "cell_type": "code",
      "source": [
        "# Get random samples from test_df\n",
        "num_samples = 10\n",
        "random_samples = test_df.sample(num_samples)\n",
        "\n",
        "\n",
        "# Make predictions and display results\n",
        "print(\"\\n--- Inference Results ---\")\n",
        "for index, row in random_samples.iterrows():\n",
        "    text = row[\"text\"]\n",
        "    actual_label = reverse_label_map[row[\"labels\"]]\n",
        "    predicted_label = predict_sentiment(text)\n",
        "    print(f\"Text: {text}\")\n",
        "    print(f\"Actual Sentiment: {actual_label}\")\n",
        "    print(f\"Predicted Sentiment: {predicted_label}\")\n",
        "    print(\"-\" * 50)"
      ],
      "metadata": {
        "colab": {
          "base_uri": "https://localhost:8080/"
        },
        "id": "8E0JO5B9tG4k",
        "outputId": "68dc8d0c-dc33-4f10-c498-28ce4fc2aebf"
      },
      "execution_count": 19,
      "outputs": [
        {
          "output_type": "stream",
          "name": "stdout",
          "text": [
            "\n",
            "--- Inference Results ---\n",
            "Text: জামায়াতে ইসলামীর নামব্যানার ব্যবহার করে কেউ দুর্বৃত্তপনা করলে সুনির্দিষ্ট তথ্য দিয়ে সহযোগিতা করতে হিন্দু সম্প্রদায়ের নেতাদের অনুরোধ করেছেন দলটির আমির শফিকুর রহমান\n",
            "Actual Sentiment: hope\n",
            "Predicted Sentiment: hope\n",
            "--------------------------------------------------\n",
            "Text: গাছের ডাব থেকে লেপতোষক গণভবনে কিছুই অবশিষ্ট নেই\n",
            "Actual Sentiment: outrage\n",
            "Predicted Sentiment: despair\n",
            "--------------------------------------------------\n",
            "Text: চট্টগ্রামে শিক্ষামন্ত্রীর বাসায় হামলা সংসদ সদস্যের কার্যালয়ে আগুন\n",
            "Actual Sentiment: outrage\n",
            "Predicted Sentiment: despair\n",
            "--------------------------------------------------\n",
            "Text: উৎপাদনস্থলেও কম দামে কাঁচামাল বিক্রি হচ্ছে আবার পণ্য পরিবহনে গত কয়েক দিনে ব্যবসায়ীদের কোনো চাঁদা দিতে হচ্ছে না\n",
            "Actual Sentiment: hope\n",
            "Predicted Sentiment: hope\n",
            "--------------------------------------------------\n",
            "Text: প্রবাসী আয় বেড়েছে সাঁইত্রিশ শতাংশ\n",
            "Actual Sentiment: hope\n",
            "Predicted Sentiment: despair\n",
            "--------------------------------------------------\n",
            "Text: শুনানির তারিখ এগিয়ে আনতে আপিল বিভাগে আগামী রোববার আবেদন করার জন্য নির্দেশের কথা জানিয়েছেন আইনমন্ত্রী আনিসুল হক\n",
            "Actual Sentiment: hope\n",
            "Predicted Sentiment: hope\n",
            "--------------------------------------------------\n",
            "Text: বগুড়ায় দুই বিচারকের প্রত্যাহারের দাবিতে এজলাসে তালা ঝুলিয়ে কর্মচারীদের বিক্ষোভ\n",
            "Actual Sentiment: outrage\n",
            "Predicted Sentiment: outrage\n",
            "--------------------------------------------------\n",
            "Text: ফটিকছড়িহাটহাজারীতে নিহত তিন\n",
            "Actual Sentiment: despair\n",
            "Predicted Sentiment: despair\n",
            "--------------------------------------------------\n",
            "Text: আবারও বাংলাদেশের আন্দোলনকারীদের পাশে দাঁড়িয়ে পোস্ট এনজো ফার্নান্দেজের\n",
            "Actual Sentiment: hope\n",
            "Predicted Sentiment: hope\n",
            "--------------------------------------------------\n",
            "Text: মতামত শেখ হাসিনার পরিণতি থেকে কি দিল্লি শিক্ষা নেবে\n",
            "Actual Sentiment: hope\n",
            "Predicted Sentiment: despair\n",
            "--------------------------------------------------\n"
          ]
        }
      ]
    },
    {
      "cell_type": "code",
      "source": [],
      "metadata": {
        "id": "ZpurXMx4uHGT"
      },
      "execution_count": null,
      "outputs": []
    }
  ]
}